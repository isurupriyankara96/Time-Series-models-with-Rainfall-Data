{
 "cells": [
  {
   "cell_type": "code",
   "execution_count": 2,
   "metadata": {},
   "outputs": [],
   "source": [
    "import numpy as np\n",
    "import pandas as pd\n",
    "import matplotlib.pyplot as plt\n",
    "%matplotlib inline\n",
    "from statsmodels.tsa.stattools import adfuller \n",
    "from statsmodels.graphics.tsaplots import plot_acf,plot_pacf\n",
    "import statsmodels.api as sm\n",
    "from sklearn.metrics import mean_absolute_error\n",
    "from statsmodels.tsa.arima_model import ARIMA\n",
    "from math import sqrt\n",
    "from pmdarima import auto_arima\n",
    "\n",
    "\n"
   ]
  },
  {
   "cell_type": "code",
   "execution_count": 3,
   "metadata": {},
   "outputs": [
    {
     "data": {
      "text/html": [
       "<div>\n",
       "<style scoped>\n",
       "    .dataframe tbody tr th:only-of-type {\n",
       "        vertical-align: middle;\n",
       "    }\n",
       "\n",
       "    .dataframe tbody tr th {\n",
       "        vertical-align: top;\n",
       "    }\n",
       "\n",
       "    .dataframe thead th {\n",
       "        text-align: right;\n",
       "    }\n",
       "</style>\n",
       "<table border=\"1\" class=\"dataframe\">\n",
       "  <thead>\n",
       "    <tr style=\"text-align: right;\">\n",
       "      <th></th>\n",
       "      <th>Year</th>\n",
       "      <th>Month</th>\n",
       "      <th>Rainfall</th>\n",
       "      <th>Temp_min</th>\n",
       "      <th>Temp_max</th>\n",
       "      <th>Hum_min</th>\n",
       "      <th>Hum_max</th>\n",
       "    </tr>\n",
       "  </thead>\n",
       "  <tbody>\n",
       "    <tr>\n",
       "      <th>0</th>\n",
       "      <td>2010</td>\n",
       "      <td>January</td>\n",
       "      <td>130.2</td>\n",
       "      <td>22.1</td>\n",
       "      <td>32.1</td>\n",
       "      <td>NaN</td>\n",
       "      <td>NaN</td>\n",
       "    </tr>\n",
       "    <tr>\n",
       "      <th>1</th>\n",
       "      <td>2010</td>\n",
       "      <td>February</td>\n",
       "      <td>41.3</td>\n",
       "      <td>22.6</td>\n",
       "      <td>33.9</td>\n",
       "      <td>NaN</td>\n",
       "      <td>NaN</td>\n",
       "    </tr>\n",
       "    <tr>\n",
       "      <th>2</th>\n",
       "      <td>2010</td>\n",
       "      <td>March</td>\n",
       "      <td>171.5</td>\n",
       "      <td>23.1</td>\n",
       "      <td>35.2</td>\n",
       "      <td>NaN</td>\n",
       "      <td>NaN</td>\n",
       "    </tr>\n",
       "    <tr>\n",
       "      <th>3</th>\n",
       "      <td>2010</td>\n",
       "      <td>April</td>\n",
       "      <td>421.7</td>\n",
       "      <td>23.7</td>\n",
       "      <td>33.5</td>\n",
       "      <td>NaN</td>\n",
       "      <td>NaN</td>\n",
       "    </tr>\n",
       "    <tr>\n",
       "      <th>4</th>\n",
       "      <td>2010</td>\n",
       "      <td>May</td>\n",
       "      <td>793.3</td>\n",
       "      <td>24.0</td>\n",
       "      <td>31.8</td>\n",
       "      <td>NaN</td>\n",
       "      <td>NaN</td>\n",
       "    </tr>\n",
       "  </tbody>\n",
       "</table>\n",
       "</div>"
      ],
      "text/plain": [
       "   Year     Month  Rainfall  Temp_min  Temp_max  Hum_min  Hum_max\n",
       "0  2010   January     130.2      22.1      32.1      NaN      NaN\n",
       "1  2010  February      41.3      22.6      33.9      NaN      NaN\n",
       "2  2010     March     171.5      23.1      35.2      NaN      NaN\n",
       "3  2010     April     421.7      23.7      33.5      NaN      NaN\n",
       "4  2010       May     793.3      24.0      31.8      NaN      NaN"
      ]
     },
     "execution_count": 3,
     "metadata": {},
     "output_type": "execute_result"
    }
   ],
   "source": [
    "df=pd.read_csv('Erathna_project.csv')\n",
    "df.head()\n",
    "\n",
    "\n",
    "\n",
    "\n"
   ]
  },
  {
   "cell_type": "code",
   "execution_count": 4,
   "metadata": {},
   "outputs": [],
   "source": [
    "df[\"Time\"]=df[\"Year\"].astype(str)+\"-\"+df[\"Month\"].astype(str)"
   ]
  },
  {
   "cell_type": "code",
   "execution_count": 5,
   "metadata": {},
   "outputs": [],
   "source": [
    "#Creating time column\n",
    "df['Time'] = pd.to_datetime(df['Time'])"
   ]
  },
  {
   "cell_type": "code",
   "execution_count": 6,
   "metadata": {},
   "outputs": [
    {
     "data": {
      "text/html": [
       "<div>\n",
       "<style scoped>\n",
       "    .dataframe tbody tr th:only-of-type {\n",
       "        vertical-align: middle;\n",
       "    }\n",
       "\n",
       "    .dataframe tbody tr th {\n",
       "        vertical-align: top;\n",
       "    }\n",
       "\n",
       "    .dataframe thead th {\n",
       "        text-align: right;\n",
       "    }\n",
       "</style>\n",
       "<table border=\"1\" class=\"dataframe\">\n",
       "  <thead>\n",
       "    <tr style=\"text-align: right;\">\n",
       "      <th></th>\n",
       "      <th>Year</th>\n",
       "      <th>Month</th>\n",
       "      <th>Rainfall</th>\n",
       "      <th>Temp_min</th>\n",
       "      <th>Temp_max</th>\n",
       "      <th>Hum_min</th>\n",
       "      <th>Hum_max</th>\n",
       "      <th>Time</th>\n",
       "    </tr>\n",
       "  </thead>\n",
       "  <tbody>\n",
       "    <tr>\n",
       "      <th>0</th>\n",
       "      <td>2010</td>\n",
       "      <td>January</td>\n",
       "      <td>130.2</td>\n",
       "      <td>22.1</td>\n",
       "      <td>32.1</td>\n",
       "      <td>NaN</td>\n",
       "      <td>NaN</td>\n",
       "      <td>2010-01-01</td>\n",
       "    </tr>\n",
       "    <tr>\n",
       "      <th>1</th>\n",
       "      <td>2010</td>\n",
       "      <td>February</td>\n",
       "      <td>41.3</td>\n",
       "      <td>22.6</td>\n",
       "      <td>33.9</td>\n",
       "      <td>NaN</td>\n",
       "      <td>NaN</td>\n",
       "      <td>2010-02-01</td>\n",
       "    </tr>\n",
       "    <tr>\n",
       "      <th>2</th>\n",
       "      <td>2010</td>\n",
       "      <td>March</td>\n",
       "      <td>171.5</td>\n",
       "      <td>23.1</td>\n",
       "      <td>35.2</td>\n",
       "      <td>NaN</td>\n",
       "      <td>NaN</td>\n",
       "      <td>2010-03-01</td>\n",
       "    </tr>\n",
       "    <tr>\n",
       "      <th>3</th>\n",
       "      <td>2010</td>\n",
       "      <td>April</td>\n",
       "      <td>421.7</td>\n",
       "      <td>23.7</td>\n",
       "      <td>33.5</td>\n",
       "      <td>NaN</td>\n",
       "      <td>NaN</td>\n",
       "      <td>2010-04-01</td>\n",
       "    </tr>\n",
       "    <tr>\n",
       "      <th>4</th>\n",
       "      <td>2010</td>\n",
       "      <td>May</td>\n",
       "      <td>793.3</td>\n",
       "      <td>24.0</td>\n",
       "      <td>31.8</td>\n",
       "      <td>NaN</td>\n",
       "      <td>NaN</td>\n",
       "      <td>2010-05-01</td>\n",
       "    </tr>\n",
       "  </tbody>\n",
       "</table>\n",
       "</div>"
      ],
      "text/plain": [
       "   Year     Month  Rainfall  Temp_min  Temp_max  Hum_min  Hum_max       Time\n",
       "0  2010   January     130.2      22.1      32.1      NaN      NaN 2010-01-01\n",
       "1  2010  February      41.3      22.6      33.9      NaN      NaN 2010-02-01\n",
       "2  2010     March     171.5      23.1      35.2      NaN      NaN 2010-03-01\n",
       "3  2010     April     421.7      23.7      33.5      NaN      NaN 2010-04-01\n",
       "4  2010       May     793.3      24.0      31.8      NaN      NaN 2010-05-01"
      ]
     },
     "execution_count": 6,
     "metadata": {},
     "output_type": "execute_result"
    }
   ],
   "source": [
    "df.head()"
   ]
  },
  {
   "cell_type": "code",
   "execution_count": 7,
   "metadata": {},
   "outputs": [
    {
     "data": {
      "text/html": [
       "<div>\n",
       "<style scoped>\n",
       "    .dataframe tbody tr th:only-of-type {\n",
       "        vertical-align: middle;\n",
       "    }\n",
       "\n",
       "    .dataframe tbody tr th {\n",
       "        vertical-align: top;\n",
       "    }\n",
       "\n",
       "    .dataframe thead th {\n",
       "        text-align: right;\n",
       "    }\n",
       "</style>\n",
       "<table border=\"1\" class=\"dataframe\">\n",
       "  <thead>\n",
       "    <tr style=\"text-align: right;\">\n",
       "      <th></th>\n",
       "      <th>Time</th>\n",
       "      <th>Rainfall</th>\n",
       "    </tr>\n",
       "  </thead>\n",
       "  <tbody>\n",
       "    <tr>\n",
       "      <th>0</th>\n",
       "      <td>2010-01-01</td>\n",
       "      <td>130.2</td>\n",
       "    </tr>\n",
       "    <tr>\n",
       "      <th>1</th>\n",
       "      <td>2010-02-01</td>\n",
       "      <td>41.3</td>\n",
       "    </tr>\n",
       "    <tr>\n",
       "      <th>2</th>\n",
       "      <td>2010-03-01</td>\n",
       "      <td>171.5</td>\n",
       "    </tr>\n",
       "    <tr>\n",
       "      <th>3</th>\n",
       "      <td>2010-04-01</td>\n",
       "      <td>421.7</td>\n",
       "    </tr>\n",
       "    <tr>\n",
       "      <th>4</th>\n",
       "      <td>2010-05-01</td>\n",
       "      <td>793.3</td>\n",
       "    </tr>\n",
       "  </tbody>\n",
       "</table>\n",
       "</div>"
      ],
      "text/plain": [
       "        Time  Rainfall\n",
       "0 2010-01-01     130.2\n",
       "1 2010-02-01      41.3\n",
       "2 2010-03-01     171.5\n",
       "3 2010-04-01     421.7\n",
       "4 2010-05-01     793.3"
      ]
     },
     "execution_count": 7,
     "metadata": {},
     "output_type": "execute_result"
    }
   ],
   "source": [
    "rainfall=df[[\"Time\",\"Rainfall\"]]\n",
    "rainfall.head()\n"
   ]
  },
  {
   "cell_type": "markdown",
   "metadata": {},
   "source": [
    "# Forecasting rainfall"
   ]
  },
  {
   "cell_type": "code",
   "execution_count": 8,
   "metadata": {},
   "outputs": [
    {
     "data": {
      "text/plain": [
       "Time        0\n",
       "Rainfall    7\n",
       "dtype: int64"
      ]
     },
     "execution_count": 8,
     "metadata": {},
     "output_type": "execute_result"
    }
   ],
   "source": [
    "#Checking for missing values\n",
    "rainfall.isna().sum()\n"
   ]
  },
  {
   "cell_type": "code",
   "execution_count": 9,
   "metadata": {},
   "outputs": [],
   "source": [
    "#Setting the time index\n",
    "rainfall.set_index('Time',inplace=True)"
   ]
  },
  {
   "cell_type": "code",
   "execution_count": 10,
   "metadata": {},
   "outputs": [],
   "source": [
    "rain=rainfall.resample('MS').first()"
   ]
  },
  {
   "cell_type": "code",
   "execution_count": 11,
   "metadata": {},
   "outputs": [
    {
     "data": {
      "text/html": [
       "<div>\n",
       "<style scoped>\n",
       "    .dataframe tbody tr th:only-of-type {\n",
       "        vertical-align: middle;\n",
       "    }\n",
       "\n",
       "    .dataframe tbody tr th {\n",
       "        vertical-align: top;\n",
       "    }\n",
       "\n",
       "    .dataframe thead th {\n",
       "        text-align: right;\n",
       "    }\n",
       "</style>\n",
       "<table border=\"1\" class=\"dataframe\">\n",
       "  <thead>\n",
       "    <tr style=\"text-align: right;\">\n",
       "      <th></th>\n",
       "      <th>Rainfall</th>\n",
       "    </tr>\n",
       "    <tr>\n",
       "      <th>Time</th>\n",
       "      <th></th>\n",
       "    </tr>\n",
       "  </thead>\n",
       "  <tbody>\n",
       "    <tr>\n",
       "      <th>2010-01-01</th>\n",
       "      <td>130.2</td>\n",
       "    </tr>\n",
       "    <tr>\n",
       "      <th>2010-02-01</th>\n",
       "      <td>41.3</td>\n",
       "    </tr>\n",
       "    <tr>\n",
       "      <th>2010-03-01</th>\n",
       "      <td>171.5</td>\n",
       "    </tr>\n",
       "    <tr>\n",
       "      <th>2010-04-01</th>\n",
       "      <td>421.7</td>\n",
       "    </tr>\n",
       "    <tr>\n",
       "      <th>2010-05-01</th>\n",
       "      <td>793.3</td>\n",
       "    </tr>\n",
       "    <tr>\n",
       "      <th>2010-06-01</th>\n",
       "      <td>395.8</td>\n",
       "    </tr>\n",
       "    <tr>\n",
       "      <th>2010-07-01</th>\n",
       "      <td>433.1</td>\n",
       "    </tr>\n",
       "    <tr>\n",
       "      <th>2010-08-01</th>\n",
       "      <td>366.2</td>\n",
       "    </tr>\n",
       "    <tr>\n",
       "      <th>2010-09-01</th>\n",
       "      <td>322.2</td>\n",
       "    </tr>\n",
       "    <tr>\n",
       "      <th>2010-10-01</th>\n",
       "      <td>322.2</td>\n",
       "    </tr>\n",
       "    <tr>\n",
       "      <th>2010-11-01</th>\n",
       "      <td>663.5</td>\n",
       "    </tr>\n",
       "    <tr>\n",
       "      <th>2010-12-01</th>\n",
       "      <td>445.3</td>\n",
       "    </tr>\n",
       "    <tr>\n",
       "      <th>2011-01-01</th>\n",
       "      <td>162.8</td>\n",
       "    </tr>\n",
       "    <tr>\n",
       "      <th>2011-02-01</th>\n",
       "      <td>192.2</td>\n",
       "    </tr>\n",
       "    <tr>\n",
       "      <th>2011-03-01</th>\n",
       "      <td>296.8</td>\n",
       "    </tr>\n",
       "    <tr>\n",
       "      <th>2011-04-01</th>\n",
       "      <td>773.1</td>\n",
       "    </tr>\n",
       "    <tr>\n",
       "      <th>2011-05-01</th>\n",
       "      <td>702.5</td>\n",
       "    </tr>\n",
       "    <tr>\n",
       "      <th>2011-06-01</th>\n",
       "      <td>284.5</td>\n",
       "    </tr>\n",
       "    <tr>\n",
       "      <th>2011-07-01</th>\n",
       "      <td>226.9</td>\n",
       "    </tr>\n",
       "    <tr>\n",
       "      <th>2011-08-01</th>\n",
       "      <td>376.4</td>\n",
       "    </tr>\n",
       "  </tbody>\n",
       "</table>\n",
       "</div>"
      ],
      "text/plain": [
       "            Rainfall\n",
       "Time                \n",
       "2010-01-01     130.2\n",
       "2010-02-01      41.3\n",
       "2010-03-01     171.5\n",
       "2010-04-01     421.7\n",
       "2010-05-01     793.3\n",
       "2010-06-01     395.8\n",
       "2010-07-01     433.1\n",
       "2010-08-01     366.2\n",
       "2010-09-01     322.2\n",
       "2010-10-01     322.2\n",
       "2010-11-01     663.5\n",
       "2010-12-01     445.3\n",
       "2011-01-01     162.8\n",
       "2011-02-01     192.2\n",
       "2011-03-01     296.8\n",
       "2011-04-01     773.1\n",
       "2011-05-01     702.5\n",
       "2011-06-01     284.5\n",
       "2011-07-01     226.9\n",
       "2011-08-01     376.4"
      ]
     },
     "execution_count": 11,
     "metadata": {},
     "output_type": "execute_result"
    }
   ],
   "source": [
    "#removing missing values\n",
    "rain=rain.fillna(method='bfill')\n",
    "rain.head(20)\n"
   ]
  },
  {
   "cell_type": "code",
   "execution_count": null,
   "metadata": {},
   "outputs": [],
   "source": []
  },
  {
   "cell_type": "code",
   "execution_count": null,
   "metadata": {},
   "outputs": [],
   "source": []
  },
  {
   "cell_type": "code",
   "execution_count": null,
   "metadata": {},
   "outputs": [],
   "source": []
  },
  {
   "cell_type": "code",
   "execution_count": null,
   "metadata": {},
   "outputs": [],
   "source": []
  },
  {
   "cell_type": "markdown",
   "metadata": {},
   "source": [
    "# Visualize the Data"
   ]
  },
  {
   "cell_type": "code",
   "execution_count": 12,
   "metadata": {},
   "outputs": [
    {
     "data": {
      "text/plain": [
       "<AxesSubplot:xlabel='Time'>"
      ]
     },
     "execution_count": 12,
     "metadata": {},
     "output_type": "execute_result"
    },
    {
     "data": {
      "image/png": "[encoded data removed]",
      "text/plain": [
       "<Figure size 864x576 with 1 Axes>"
      ]
     },
     "metadata": {
      "needs_background": "light"
     },
     "output_type": "display_data"
    }
   ],
   "source": [
    "rain.plot(figsize=(12,8))\n"
   ]
  },
  {
   "cell_type": "markdown",
   "metadata": {},
   "source": [
    "No significant trend. But it can be seen that there is some evidence for seasonality."
   ]
  },
  {
   "cell_type": "markdown",
   "metadata": {},
   "source": [
    "# Testing For Stationarity"
   ]
  },
  {
   "cell_type": "code",
   "execution_count": 13,
   "metadata": {},
   "outputs": [
    {
     "name": "stdout",
     "output_type": "stream",
     "text": [
      "ADF Test Statistic : -6.1714074993755155\n",
      "p-value : 6.791187665809427e-08\n",
      "#Lags Used : 8\n",
      "Number of Observations Used : 135\n",
      "strong evidence against the null hypothesis(Ho), reject the null hypothesis. Data has no unit root and is stationary\n"
     ]
    }
   ],
   "source": [
    "### ADF Test\n",
    "test_result=adfuller(rain['Rainfall'])\n",
    "#Ho: The series is non stationary\n",
    "#H1: The series is stationary\n",
    "\n",
    "def adfuller_test(rainfall):\n",
    "    result=adfuller(rainfall)\n",
    "    labels = ['ADF Test Statistic','p-value','#Lags Used','Number of Observations Used']\n",
    "    for value,label in zip(result,labels):\n",
    "        print(label+' : '+str(value) )\n",
    "    if result[1] <= 0.05:\n",
    "        print(\"strong evidence against the null hypothesis(Ho), reject the null hypothesis. Data has no unit root and is stationary\")\n",
    "    else:\n",
    "        print(\"weak evidence against null hypothesis, time series has a unit root, indicating it is non-stationary \")\n",
    "    \n",
    "adfuller_test(rain['Rainfall'])\n"
   ]
  },
  {
   "cell_type": "code",
   "execution_count": 14,
   "metadata": {},
   "outputs": [
    {
     "name": "stdout",
     "output_type": "stream",
     "text": [
      "KPSS Statistic: 0.04453954510085818\n",
      "p-value: 0.1\n",
      "num lags: 9\n",
      "Critial Values:\n",
      "   10% : 0.347\n",
      "   5% : 0.463\n",
      "   2.5% : 0.574\n",
      "   1% : 0.739\n",
      "Result: The series is stationary\n"
     ]
    },
    {
     "name": "stderr",
     "output_type": "stream",
     "text": [
      "C:\\Users\\isuru\\anaconda3\\lib\\site-packages\\statsmodels\\tsa\\stattools.py:2022: InterpolationWarning: The test statistic is outside of the range of p-values available in the\n",
      "look-up table. The actual p-value is greater than the p-value returned.\n",
      "\n",
      "  warnings.warn(\n"
     ]
    }
   ],
   "source": [
    "# KPSS test\n",
    "from statsmodels.tsa.stattools import kpss\n",
    "def kpss_test(series, **kw):    \n",
    "    statistic, p_value, n_lags, critical_values = kpss(series, **kw)\n",
    "    # Format Output\n",
    "    print(f'KPSS Statistic: {statistic}')\n",
    "    print(f'p-value: {p_value}')\n",
    "    print(f'num lags: {n_lags}')\n",
    "    print('Critial Values:')\n",
    "    for key, value in critical_values.items():\n",
    "        print(f'   {key} : {value}')\n",
    "    print(f'Result: The series is {\"not \" if p_value < 0.05 else \"\"}stationary')\n",
    "\n",
    "kpss_test(rain['Rainfall'])\n"
   ]
  },
  {
   "cell_type": "code",
   "execution_count": 15,
   "metadata": {},
   "outputs": [
    {
     "name": "stdout",
     "output_type": "stream",
     "text": [
      "     Phillips-Perron Test (Z-tau)    \n",
      "=====================================\n",
      "Test Statistic                 -8.489\n",
      "P-value                         0.000\n",
      "Lags                               14\n",
      "-------------------------------------\n",
      "\n",
      "Trend: Constant\n",
      "Critical Values: -3.48 (1%), -2.88 (5%), -2.58 (10%)\n",
      "Null Hypothesis: The process contains a unit root.\n",
      "Alternative Hypothesis: The process is weakly stationary.\n"
     ]
    }
   ],
   "source": [
    "#PhillipsPerron Test\n",
    "from arch.unitroot import PhillipsPerron\n",
    "\n",
    "pp = PhillipsPerron(rain['Rainfall'])\n",
    "print(pp.summary().as_text())\n"
   ]
  },
  {
   "cell_type": "markdown",
   "metadata": {},
   "source": [
    "# ACF and PACF plots"
   ]
  },
  {
   "cell_type": "code",
   "execution_count": 16,
   "metadata": {},
   "outputs": [
    {
     "name": "stderr",
     "output_type": "stream",
     "text": [
      "C:\\Users\\isuru\\anaconda3\\lib\\site-packages\\statsmodels\\graphics\\tsaplots.py:348: FutureWarning: The default method 'yw' can produce PACF values outside of the [-1,1] interval. After 0.13, the default will change tounadjusted Yule-Walker ('ywm'). You can use this method now by setting method='ywm'.\n",
      "  warnings.warn(\n"
     ]
    },
    {
     "data": {
      "image/png": "[encoded data removed]",
      "text/plain": [
       "<Figure size 864x576 with 2 Axes>"
      ]
     },
     "metadata": {
      "needs_background": "light"
     },
     "output_type": "display_data"
    }
   ],
   "source": [
    "fig = plt.figure(figsize=(12,8))\n",
    "ax1 = fig.add_subplot(211)\n",
    "fig = sm.graphics.tsa.plot_acf(rain['Rainfall'],lags=40,ax=ax1)\n",
    "ax2 = fig.add_subplot(212)\n",
    "fig = sm.graphics.tsa.plot_pacf(rain['Rainfall'],lags=40,ax=ax2)\n"
   ]
  },
  {
   "cell_type": "markdown",
   "metadata": {},
   "source": [
    "##### According to the PACF and ACF plots it's better to start with p=3, d=0, q=3"
   ]
  },
  {
   "cell_type": "code",
   "execution_count": 17,
   "metadata": {},
   "outputs": [
    {
     "name": "stdout",
     "output_type": "stream",
     "text": [
      " ARIMA(0,0,0)(0,0,0)[12] intercept   : AIC=1965.552, Time=0.02 sec\n",
      " ARIMA(0,0,0)(0,0,1)[12] intercept   : AIC=1955.386, Time=0.36 sec\n",
      " ARIMA(0,0,0)(0,0,2)[12] intercept   : AIC=1949.678, Time=1.42 sec\n",
      " ARIMA(0,0,0)(0,0,3)[12] intercept   : AIC=1947.492, Time=2.87 sec\n",
      " ARIMA(0,0,0)(0,0,4)[12] intercept   : AIC=1944.723, Time=4.20 sec\n",
      " ARIMA(0,0,0)(0,0,5)[12] intercept   : AIC=1945.532, Time=7.24 sec\n",
      " ARIMA(0,0,0)(1,0,0)[12] intercept   : AIC=1948.747, Time=0.40 sec\n",
      " ARIMA(0,0,0)(1,0,1)[12] intercept   : AIC=inf, Time=0.96 sec\n",
      " ARIMA(0,0,0)(1,0,2)[12] intercept   : AIC=1923.471, Time=4.09 sec\n",
      " ARIMA(0,0,0)(1,0,3)[12] intercept   : AIC=1949.312, Time=1.49 sec\n",
      " ARIMA(0,0,0)(1,0,4)[12] intercept   : AIC=1946.680, Time=4.01 sec\n",
      " ARIMA(0,0,0)(2,0,0)[12] intercept   : AIC=1939.972, Time=1.97 sec\n",
      " ARIMA(0,0,0)(2,0,1)[12] intercept   : AIC=1924.838, Time=4.12 sec\n",
      " ARIMA(0,0,0)(2,0,2)[12] intercept   : AIC=inf, Time=6.59 sec\n",
      " ARIMA(0,0,0)(2,0,3)[12] intercept   : AIC=inf, Time=8.54 sec\n",
      " ARIMA(0,0,0)(3,0,0)[12] intercept   : AIC=1936.898, Time=4.22 sec\n",
      " ARIMA(0,0,0)(3,0,1)[12] intercept   : AIC=inf, Time=4.19 sec\n",
      " ARIMA(0,0,0)(3,0,2)[12] intercept   : AIC=inf, Time=4.34 sec\n",
      " ARIMA(0,0,0)(4,0,0)[12] intercept   : AIC=inf, Time=7.92 sec\n",
      " ARIMA(0,0,0)(4,0,1)[12] intercept   : AIC=inf, Time=10.32 sec\n",
      " ARIMA(0,0,0)(5,0,0)[12] intercept   : AIC=inf, Time=15.74 sec\n",
      " ARIMA(0,0,1)(0,0,0)[12] intercept   : AIC=1954.341, Time=0.19 sec\n",
      " ARIMA(0,0,1)(0,0,1)[12] intercept   : AIC=1947.162, Time=0.62 sec\n",
      " ARIMA(0,0,1)(0,0,2)[12] intercept   : AIC=1945.972, Time=2.29 sec\n",
      " ARIMA(0,0,1)(0,0,3)[12] intercept   : AIC=1944.870, Time=3.78 sec\n",
      " ARIMA(0,0,1)(0,0,4)[12] intercept   : AIC=1941.755, Time=9.38 sec\n",
      " ARIMA(0,0,1)(1,0,0)[12] intercept   : AIC=1943.868, Time=0.40 sec\n",
      " ARIMA(0,0,1)(1,0,1)[12] intercept   : AIC=1922.647, Time=1.43 sec\n",
      " ARIMA(0,0,1)(1,0,2)[12] intercept   : AIC=1947.617, Time=3.12 sec\n",
      " ARIMA(0,0,1)(1,0,3)[12] intercept   : AIC=1946.379, Time=5.20 sec\n",
      " ARIMA(0,0,1)(2,0,0)[12] intercept   : AIC=1939.770, Time=2.73 sec\n",
      " ARIMA(0,0,1)(2,0,1)[12] intercept   : AIC=1945.295, Time=2.62 sec\n",
      " ARIMA(0,0,1)(2,0,2)[12] intercept   : AIC=inf, Time=7.12 sec\n",
      " ARIMA(0,0,1)(3,0,0)[12] intercept   : AIC=1936.861, Time=3.10 sec\n",
      " ARIMA(0,0,1)(3,0,1)[12] intercept   : AIC=inf, Time=5.55 sec\n",
      " ARIMA(0,0,1)(4,0,0)[12] intercept   : AIC=1932.110, Time=7.66 sec\n",
      " ARIMA(0,0,2)(0,0,0)[12] intercept   : AIC=1952.602, Time=0.32 sec\n",
      " ARIMA(0,0,2)(0,0,1)[12] intercept   : AIC=1947.033, Time=0.74 sec\n",
      " ARIMA(0,0,2)(0,0,2)[12] intercept   : AIC=1945.563, Time=2.59 sec\n",
      " ARIMA(0,0,2)(0,0,3)[12] intercept   : AIC=1944.585, Time=5.16 sec\n",
      " ARIMA(0,0,2)(1,0,0)[12] intercept   : AIC=1944.030, Time=0.79 sec\n",
      " ARIMA(0,0,2)(1,0,1)[12] intercept   : AIC=1922.956, Time=2.17 sec\n",
      " ARIMA(0,0,2)(1,0,2)[12] intercept   : AIC=1947.178, Time=3.42 sec\n",
      " ARIMA(0,0,2)(2,0,0)[12] intercept   : AIC=1939.389, Time=2.74 sec\n",
      " ARIMA(0,0,2)(2,0,1)[12] intercept   : AIC=1944.960, Time=2.80 sec\n",
      " ARIMA(0,0,2)(3,0,0)[12] intercept   : AIC=1936.719, Time=6.38 sec\n",
      " ARIMA(0,0,3)(0,0,0)[12] intercept   : AIC=1942.126, Time=0.47 sec\n",
      " ARIMA(0,0,3)(0,0,1)[12] intercept   : AIC=1937.983, Time=0.84 sec\n",
      " ARIMA(0,0,3)(0,0,2)[12] intercept   : AIC=1936.247, Time=1.91 sec\n",
      " ARIMA(0,0,3)(1,0,0)[12] intercept   : AIC=1935.790, Time=1.92 sec\n",
      " ARIMA(0,0,3)(1,0,1)[12] intercept   : AIC=1924.313, Time=3.34 sec\n",
      " ARIMA(0,0,3)(2,0,0)[12] intercept   : AIC=1931.992, Time=5.55 sec\n",
      " ARIMA(1,0,0)(0,0,0)[12] intercept   : AIC=1954.659, Time=0.06 sec\n",
      " ARIMA(1,0,0)(0,0,1)[12] intercept   : AIC=1947.217, Time=0.40 sec\n",
      " ARIMA(1,0,0)(0,0,2)[12] intercept   : AIC=1945.535, Time=1.89 sec\n",
      " ARIMA(1,0,0)(0,0,3)[12] intercept   : AIC=1944.351, Time=4.86 sec\n",
      " ARIMA(1,0,0)(0,0,4)[12] intercept   : AIC=1941.292, Time=7.05 sec\n",
      " ARIMA(1,0,0)(1,0,0)[12] intercept   : AIC=1943.533, Time=0.58 sec\n",
      " ARIMA(1,0,0)(1,0,1)[12] intercept   : AIC=1922.756, Time=1.27 sec\n",
      " ARIMA(1,0,0)(1,0,2)[12] intercept   : AIC=1923.919, Time=5.74 sec\n",
      " ARIMA(1,0,0)(1,0,3)[12] intercept   : AIC=1923.938, Time=9.08 sec\n",
      " ARIMA(1,0,0)(2,0,0)[12] intercept   : AIC=1939.349, Time=2.76 sec\n",
      " ARIMA(1,0,0)(2,0,1)[12] intercept   : AIC=1923.993, Time=5.99 sec\n",
      " ARIMA(1,0,0)(2,0,2)[12] intercept   : AIC=inf, Time=8.73 sec\n",
      " ARIMA(1,0,0)(3,0,0)[12] intercept   : AIC=1936.395, Time=7.49 sec\n",
      " ARIMA(1,0,0)(3,0,1)[12] intercept   : AIC=1928.029, Time=9.88 sec\n",
      " ARIMA(1,0,0)(4,0,0)[12] intercept   : AIC=1931.752, Time=10.16 sec\n",
      " ARIMA(1,0,1)(0,0,0)[12] intercept   : AIC=1955.573, Time=0.33 sec\n",
      " ARIMA(1,0,1)(0,0,1)[12] intercept   : AIC=1948.619, Time=0.73 sec\n",
      " ARIMA(1,0,1)(0,0,2)[12] intercept   : AIC=1947.577, Time=1.67 sec\n",
      " ARIMA(1,0,1)(0,0,3)[12] intercept   : AIC=1946.500, Time=2.37 sec\n",
      " ARIMA(1,0,1)(1,0,0)[12] intercept   : AIC=1945.384, Time=0.80 sec\n",
      " ARIMA(1,0,1)(1,0,1)[12] intercept   : AIC=inf, Time=1.80 sec\n",
      " ARIMA(1,0,1)(1,0,2)[12] intercept   : AIC=inf, Time=6.82 sec\n",
      " ARIMA(1,0,1)(2,0,0)[12] intercept   : AIC=1943.267, Time=3.44 sec\n",
      " ARIMA(1,0,1)(2,0,1)[12] intercept   : AIC=1933.274, Time=6.06 sec\n",
      " ARIMA(1,0,1)(3,0,0)[12] intercept   : AIC=inf, Time=8.29 sec\n",
      " ARIMA(1,0,2)(0,0,0)[12] intercept   : AIC=1948.886, Time=0.46 sec\n",
      " ARIMA(1,0,2)(0,0,1)[12] intercept   : AIC=1942.816, Time=1.25 sec\n",
      " ARIMA(1,0,2)(0,0,2)[12] intercept   : AIC=1939.788, Time=4.80 sec\n",
      " ARIMA(1,0,2)(1,0,0)[12] intercept   : AIC=1939.667, Time=0.69 sec\n",
      " ARIMA(1,0,2)(1,0,1)[12] intercept   : AIC=1939.818, Time=1.52 sec\n",
      " ARIMA(1,0,2)(2,0,0)[12] intercept   : AIC=1933.709, Time=4.06 sec\n",
      " ARIMA(1,0,3)(0,0,0)[12] intercept   : AIC=1943.916, Time=0.30 sec\n",
      " ARIMA(1,0,3)(0,0,1)[12] intercept   : AIC=1939.962, Time=0.60 sec\n",
      " ARIMA(1,0,3)(1,0,0)[12] intercept   : AIC=1937.482, Time=0.77 sec\n",
      " ARIMA(2,0,0)(0,0,0)[12] intercept   : AIC=1953.208, Time=0.08 sec\n",
      " ARIMA(2,0,0)(0,0,1)[12] intercept   : AIC=1947.541, Time=0.44 sec\n",
      " ARIMA(2,0,0)(0,0,2)[12] intercept   : AIC=1947.213, Time=1.90 sec\n",
      " ARIMA(2,0,0)(0,0,3)[12] intercept   : AIC=1946.328, Time=3.28 sec\n",
      " ARIMA(2,0,0)(1,0,0)[12] intercept   : AIC=1945.032, Time=0.91 sec\n",
      " ARIMA(2,0,0)(1,0,1)[12] intercept   : AIC=1949.292, Time=1.32 sec\n",
      " ARIMA(2,0,0)(1,0,2)[12] intercept   : AIC=1949.116, Time=3.76 sec\n",
      " ARIMA(2,0,0)(2,0,0)[12] intercept   : AIC=1941.091, Time=3.37 sec\n",
      " ARIMA(2,0,0)(2,0,1)[12] intercept   : AIC=1946.950, Time=3.96 sec\n",
      " ARIMA(2,0,0)(3,0,0)[12] intercept   : AIC=1938.009, Time=7.58 sec\n",
      " ARIMA(2,0,1)(0,0,0)[12] intercept   : AIC=1958.114, Time=0.54 sec\n",
      " ARIMA(2,0,1)(0,0,1)[12] intercept   : AIC=1950.499, Time=0.78 sec\n",
      " ARIMA(2,0,1)(0,0,2)[12] intercept   : AIC=1947.045, Time=1.64 sec\n",
      " ARIMA(2,0,1)(1,0,0)[12] intercept   : AIC=1945.564, Time=1.54 sec\n",
      " ARIMA(2,0,1)(1,0,1)[12] intercept   : AIC=1931.949, Time=2.13 sec\n",
      " ARIMA(2,0,1)(2,0,0)[12] intercept   : AIC=1937.963, Time=5.94 sec\n",
      " ARIMA(2,0,2)(0,0,0)[12] intercept   : AIC=inf, Time=0.82 sec\n",
      " ARIMA(2,0,2)(0,0,1)[12] intercept   : AIC=inf, Time=2.19 sec\n",
      " ARIMA(2,0,2)(1,0,0)[12] intercept   : AIC=1938.837, Time=2.65 sec\n",
      " ARIMA(2,0,3)(0,0,0)[12] intercept   : AIC=inf, Time=1.31 sec\n",
      " ARIMA(3,0,0)(0,0,0)[12] intercept   : AIC=1940.510, Time=0.11 sec\n",
      " ARIMA(3,0,0)(0,0,1)[12] intercept   : AIC=1939.112, Time=0.27 sec\n",
      " ARIMA(3,0,0)(0,0,2)[12] intercept   : AIC=1937.475, Time=2.60 sec\n",
      " ARIMA(3,0,0)(1,0,0)[12] intercept   : AIC=1940.340, Time=0.43 sec\n",
      " ARIMA(3,0,0)(1,0,1)[12] intercept   : AIC=1941.041, Time=2.20 sec\n",
      " ARIMA(3,0,0)(2,0,0)[12] intercept   : AIC=1933.414, Time=6.52 sec\n",
      " ARIMA(3,0,1)(0,0,0)[12] intercept   : AIC=1942.314, Time=0.19 sec\n",
      " ARIMA(3,0,1)(0,0,1)[12] intercept   : AIC=1940.590, Time=0.78 sec\n",
      " ARIMA(3,0,1)(1,0,0)[12] intercept   : AIC=1938.491, Time=1.39 sec\n",
      " ARIMA(3,0,2)(0,0,0)[12] intercept   : AIC=1944.223, Time=0.42 sec\n",
      "\n",
      "Best model:  ARIMA(0,0,1)(1,0,1)[12] intercept\n",
      "Total fit time: 375.637 seconds\n"
     ]
    }
   ],
   "source": [
    "arima_model=auto_arima(rain['Rainfall'].astype(float),start_p=0,start_d=0,start_q=0,max_p=3,max_D=1,max_q=3,start_P=0,start_D=0,start_Q=0,max_P=5,max_Q=5,m=12,seasonal=True,error_action='warn',trace=True,supress_warnings=True,stepwise=False,random_state=20,n_fits=70,maxiter=70,information_criterion='aic')\n"
   ]
  },
  {
   "cell_type": "markdown",
   "metadata": {},
   "source": [
    "Forecast rainfall using the model"
   ]
  },
  {
   "cell_type": "code",
   "execution_count": 18,
   "metadata": {},
   "outputs": [
    {
     "data": {
      "text/html": [
       "<table class=\"simpletable\">\n",
       "<caption>SARIMAX Results</caption>\n",
       "<tr>\n",
       "  <th>Dep. Variable:</th>              <td>Rainfall</td>            <th>  No. Observations:  </th>    <td>144</td>  \n",
       "</tr>\n",
       "<tr>\n",
       "  <th>Model:</th>           <td>SARIMAX(0, 0, 1)x(1, 0, 1, 12)</td> <th>  Log Likelihood     </th> <td>-966.125</td>\n",
       "</tr>\n",
       "<tr>\n",
       "  <th>Date:</th>                   <td>Wed, 13 Apr 2022</td>        <th>  AIC                </th> <td>1940.250</td>\n",
       "</tr>\n",
       "<tr>\n",
       "  <th>Time:</th>                       <td>23:40:51</td>            <th>  BIC                </th> <td>1952.129</td>\n",
       "</tr>\n",
       "<tr>\n",
       "  <th>Sample:</th>                    <td>01-01-2010</td>           <th>  HQIC               </th> <td>1945.077</td>\n",
       "</tr>\n",
       "<tr>\n",
       "  <th></th>                          <td>- 12-01-2021</td>          <th>                     </th>     <td> </td>   \n",
       "</tr>\n",
       "<tr>\n",
       "  <th>Covariance Type:</th>               <td>opg</td>              <th>                     </th>     <td> </td>   \n",
       "</tr>\n",
       "</table>\n",
       "<table class=\"simpletable\">\n",
       "<tr>\n",
       "      <td></td>        <th>coef</th>     <th>std err</th>      <th>z</th>      <th>P>|z|</th>  <th>[0.025</th>    <th>0.975]</th>  \n",
       "</tr>\n",
       "<tr>\n",
       "  <th>ma.L1</th>    <td>    0.1209</td> <td>    0.078</td> <td>    1.554</td> <td> 0.120</td> <td>   -0.032</td> <td>    0.273</td>\n",
       "</tr>\n",
       "<tr>\n",
       "  <th>ar.S.L12</th> <td>    0.9997</td> <td>    0.001</td> <td>  876.727</td> <td> 0.000</td> <td>    0.997</td> <td>    1.002</td>\n",
       "</tr>\n",
       "<tr>\n",
       "  <th>ma.S.L12</th> <td>   -0.9494</td> <td>    0.083</td> <td>  -11.395</td> <td> 0.000</td> <td>   -1.113</td> <td>   -0.786</td>\n",
       "</tr>\n",
       "<tr>\n",
       "  <th>sigma2</th>   <td> 2.981e+04</td> <td> 2.47e-06</td> <td> 1.21e+10</td> <td> 0.000</td> <td> 2.98e+04</td> <td> 2.98e+04</td>\n",
       "</tr>\n",
       "</table>\n",
       "<table class=\"simpletable\">\n",
       "<tr>\n",
       "  <th>Ljung-Box (L1) (Q):</th>     <td>0.00</td> <th>  Jarque-Bera (JB):  </th> <td>16.06</td>\n",
       "</tr>\n",
       "<tr>\n",
       "  <th>Prob(Q):</th>                <td>0.98</td> <th>  Prob(JB):          </th> <td>0.00</td> \n",
       "</tr>\n",
       "<tr>\n",
       "  <th>Heteroskedasticity (H):</th> <td>1.14</td> <th>  Skew:              </th> <td>0.19</td> \n",
       "</tr>\n",
       "<tr>\n",
       "  <th>Prob(H) (two-sided):</th>    <td>0.66</td> <th>  Kurtosis:          </th> <td>4.59</td> \n",
       "</tr>\n",
       "</table><br/><br/>Warnings:<br/>[1] Covariance matrix calculated using the outer product of gradients (complex-step).<br/>[2] Covariance matrix is singular or near-singular, with condition number 1.09e+25. Standard errors may be unstable."
      ],
      "text/plain": [
       "<class 'statsmodels.iolib.summary.Summary'>\n",
       "\"\"\"\n",
       "                                     SARIMAX Results                                      \n",
       "==========================================================================================\n",
       "Dep. Variable:                           Rainfall   No. Observations:                  144\n",
       "Model:             SARIMAX(0, 0, 1)x(1, 0, 1, 12)   Log Likelihood                -966.125\n",
       "Date:                            Wed, 13 Apr 2022   AIC                           1940.250\n",
       "Time:                                    23:40:51   BIC                           1952.129\n",
       "Sample:                                01-01-2010   HQIC                          1945.077\n",
       "                                     - 12-01-2021                                         \n",
       "Covariance Type:                              opg                                         \n",
       "==============================================================================\n",
       "                 coef    std err          z      P>|z|      [0.025      0.975]\n",
       "------------------------------------------------------------------------------\n",
       "ma.L1          0.1209      0.078      1.554      0.120      -0.032       0.273\n",
       "ar.S.L12       0.9997      0.001    876.727      0.000       0.997       1.002\n",
       "ma.S.L12      -0.9494      0.083    -11.395      0.000      -1.113      -0.786\n",
       "sigma2      2.981e+04   2.47e-06   1.21e+10      0.000    2.98e+04    2.98e+04\n",
       "===================================================================================\n",
       "Ljung-Box (L1) (Q):                   0.00   Jarque-Bera (JB):                16.06\n",
       "Prob(Q):                              0.98   Prob(JB):                         0.00\n",
       "Heteroskedasticity (H):               1.14   Skew:                             0.19\n",
       "Prob(H) (two-sided):                  0.66   Kurtosis:                         4.59\n",
       "===================================================================================\n",
       "\n",
       "Warnings:\n",
       "[1] Covariance matrix calculated using the outer product of gradients (complex-step).\n",
       "[2] Covariance matrix is singular or near-singular, with condition number 1.09e+25. Standard errors may be unstable.\n",
       "\"\"\""
      ]
     },
     "execution_count": 18,
     "metadata": {},
     "output_type": "execute_result"
    }
   ],
   "source": [
    "model=sm.tsa.statespace.SARIMAX(rain['Rainfall'].astype('float'),order=(0, 0, 1),seasonal_order=(1,0,1,12))\n",
    "results=model.fit()\n",
    "results.summary()\n"
   ]
  },
  {
   "cell_type": "code",
   "execution_count": 21,
   "metadata": {
    "scrolled": true
   },
   "outputs": [
    {
     "data": {
      "text/plain": [
       "<AxesSubplot:xlabel='Time'>"
      ]
     },
     "execution_count": 21,
     "metadata": {},
     "output_type": "execute_result"
    },
    {
     "data": {
      "image/png": "[encoded data removed]",
      "text/plain": [
       "<Figure size 864x576 with 1 Axes>"
      ]
     },
     "metadata": {
      "needs_background": "light"
     },
     "output_type": "display_data"
    }
   ],
   "source": [
    "rain['forecast']=results.predict(start=90,end=144,dynamic=True)\n",
    "rain[['Rainfall','forecast']].plot(figsize=(12,8))\n",
    "\n",
    "\n"
   ]
  },
  {
   "cell_type": "code",
   "execution_count": 22,
   "metadata": {},
   "outputs": [
    {
     "data": {
      "text/html": [
       "<div>\n",
       "<style scoped>\n",
       "    .dataframe tbody tr th:only-of-type {\n",
       "        vertical-align: middle;\n",
       "    }\n",
       "\n",
       "    .dataframe tbody tr th {\n",
       "        vertical-align: top;\n",
       "    }\n",
       "\n",
       "    .dataframe thead th {\n",
       "        text-align: right;\n",
       "    }\n",
       "</style>\n",
       "<table border=\"1\" class=\"dataframe\">\n",
       "  <thead>\n",
       "    <tr style=\"text-align: right;\">\n",
       "      <th></th>\n",
       "      <th>Rainfall</th>\n",
       "      <th>forecast</th>\n",
       "    </tr>\n",
       "    <tr>\n",
       "      <th>Time</th>\n",
       "      <th></th>\n",
       "      <th></th>\n",
       "    </tr>\n",
       "  </thead>\n",
       "  <tbody>\n",
       "    <tr>\n",
       "      <th>2021-08-01</th>\n",
       "      <td>388.699998</td>\n",
       "      <td>338.092196</td>\n",
       "    </tr>\n",
       "    <tr>\n",
       "      <th>2021-09-01</th>\n",
       "      <td>489.500003</td>\n",
       "      <td>358.323591</td>\n",
       "    </tr>\n",
       "    <tr>\n",
       "      <th>2021-10-01</th>\n",
       "      <td>640.500001</td>\n",
       "      <td>425.803797</td>\n",
       "    </tr>\n",
       "    <tr>\n",
       "      <th>2021-11-01</th>\n",
       "      <td>629.499995</td>\n",
       "      <td>409.110888</td>\n",
       "    </tr>\n",
       "    <tr>\n",
       "      <th>2021-12-01</th>\n",
       "      <td>200.700001</td>\n",
       "      <td>193.564746</td>\n",
       "    </tr>\n",
       "  </tbody>\n",
       "</table>\n",
       "</div>"
      ],
      "text/plain": [
       "              Rainfall    forecast\n",
       "Time                              \n",
       "2021-08-01  388.699998  338.092196\n",
       "2021-09-01  489.500003  358.323591\n",
       "2021-10-01  640.500001  425.803797\n",
       "2021-11-01  629.499995  409.110888\n",
       "2021-12-01  200.700001  193.564746"
      ]
     },
     "execution_count": 22,
     "metadata": {},
     "output_type": "execute_result"
    }
   ],
   "source": [
    "rain.tail()\n"
   ]
  },
  {
   "cell_type": "code",
   "execution_count": null,
   "metadata": {},
   "outputs": [],
   "source": []
  },
  {
   "cell_type": "code",
   "execution_count": null,
   "metadata": {},
   "outputs": [],
   "source": []
  }
 ],
 "metadata": {
  "kernelspec": {
   "display_name": "Python 3",
   "language": "python",
   "name": "python3"
  },
  "language_info": {
   "codemirror_mode": {
    "name": "ipython",
    "version": 3
   },
   "file_extension": ".py",
   "mimetype": "text/x-python",
   "name": "python",
   "nbconvert_exporter": "python",
   "pygments_lexer": "ipython3",
   "version": "3.8.5"
  }
 },
 "nbformat": 4,
 "nbformat_minor": 4
}
