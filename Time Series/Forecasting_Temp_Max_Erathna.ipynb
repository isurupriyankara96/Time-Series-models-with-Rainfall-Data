{
 "cells": [
  {
   "cell_type": "code",
   "execution_count": 1,
   "metadata": {},
   "outputs": [],
   "source": [
    "import numpy as np\n",
    "import pandas as pd\n",
    "import matplotlib.pyplot as plt\n",
    "%matplotlib inline\n",
    "from statsmodels.tsa.stattools import adfuller \n",
    "from statsmodels.graphics.tsaplots import plot_acf,plot_pacf\n",
    "import statsmodels.api as sm\n",
    "from sklearn.metrics import mean_absolute_error\n",
    "from statsmodels.tsa.arima_model import ARIMA\n",
    "from math import sqrt\n",
    "from pmdarima import auto_arima\n",
    "\n"
   ]
  },
  {
   "cell_type": "code",
   "execution_count": 2,
   "metadata": {},
   "outputs": [
    {
     "data": {
      "text/html": [
       "<div>\n",
       "<style scoped>\n",
       "    .dataframe tbody tr th:only-of-type {\n",
       "        vertical-align: middle;\n",
       "    }\n",
       "\n",
       "    .dataframe tbody tr th {\n",
       "        vertical-align: top;\n",
       "    }\n",
       "\n",
       "    .dataframe thead th {\n",
       "        text-align: right;\n",
       "    }\n",
       "</style>\n",
       "<table border=\"1\" class=\"dataframe\">\n",
       "  <thead>\n",
       "    <tr style=\"text-align: right;\">\n",
       "      <th></th>\n",
       "      <th>Year</th>\n",
       "      <th>Month</th>\n",
       "      <th>Rainfall</th>\n",
       "      <th>Temp_min</th>\n",
       "      <th>Temp_max</th>\n",
       "      <th>Hum_min</th>\n",
       "      <th>Hum_max</th>\n",
       "    </tr>\n",
       "  </thead>\n",
       "  <tbody>\n",
       "    <tr>\n",
       "      <th>0</th>\n",
       "      <td>2010</td>\n",
       "      <td>January</td>\n",
       "      <td>130.2</td>\n",
       "      <td>22.1</td>\n",
       "      <td>32.1</td>\n",
       "      <td>NaN</td>\n",
       "      <td>NaN</td>\n",
       "    </tr>\n",
       "    <tr>\n",
       "      <th>1</th>\n",
       "      <td>2010</td>\n",
       "      <td>February</td>\n",
       "      <td>41.3</td>\n",
       "      <td>22.6</td>\n",
       "      <td>33.9</td>\n",
       "      <td>NaN</td>\n",
       "      <td>NaN</td>\n",
       "    </tr>\n",
       "    <tr>\n",
       "      <th>2</th>\n",
       "      <td>2010</td>\n",
       "      <td>March</td>\n",
       "      <td>171.5</td>\n",
       "      <td>23.1</td>\n",
       "      <td>35.2</td>\n",
       "      <td>NaN</td>\n",
       "      <td>NaN</td>\n",
       "    </tr>\n",
       "    <tr>\n",
       "      <th>3</th>\n",
       "      <td>2010</td>\n",
       "      <td>April</td>\n",
       "      <td>421.7</td>\n",
       "      <td>23.7</td>\n",
       "      <td>33.5</td>\n",
       "      <td>NaN</td>\n",
       "      <td>NaN</td>\n",
       "    </tr>\n",
       "    <tr>\n",
       "      <th>4</th>\n",
       "      <td>2010</td>\n",
       "      <td>May</td>\n",
       "      <td>793.3</td>\n",
       "      <td>24.0</td>\n",
       "      <td>31.8</td>\n",
       "      <td>NaN</td>\n",
       "      <td>NaN</td>\n",
       "    </tr>\n",
       "  </tbody>\n",
       "</table>\n",
       "</div>"
      ],
      "text/plain": [
       "   Year     Month  Rainfall  Temp_min  Temp_max  Hum_min  Hum_max\n",
       "0  2010   January     130.2      22.1      32.1      NaN      NaN\n",
       "1  2010  February      41.3      22.6      33.9      NaN      NaN\n",
       "2  2010     March     171.5      23.1      35.2      NaN      NaN\n",
       "3  2010     April     421.7      23.7      33.5      NaN      NaN\n",
       "4  2010       May     793.3      24.0      31.8      NaN      NaN"
      ]
     },
     "execution_count": 2,
     "metadata": {},
     "output_type": "execute_result"
    }
   ],
   "source": [
    "df=pd.read_csv('Erathna_project.csv')\n",
    "df.head()\n",
    "\n",
    "\n"
   ]
  },
  {
   "cell_type": "code",
   "execution_count": 3,
   "metadata": {},
   "outputs": [],
   "source": [
    "df[\"Time\"]=df[\"Year\"].astype(str)+\"-\"+df[\"Month\"].astype(str)\n"
   ]
  },
  {
   "cell_type": "code",
   "execution_count": 4,
   "metadata": {},
   "outputs": [
    {
     "data": {
      "text/html": [
       "<div>\n",
       "<style scoped>\n",
       "    .dataframe tbody tr th:only-of-type {\n",
       "        vertical-align: middle;\n",
       "    }\n",
       "\n",
       "    .dataframe tbody tr th {\n",
       "        vertical-align: top;\n",
       "    }\n",
       "\n",
       "    .dataframe thead th {\n",
       "        text-align: right;\n",
       "    }\n",
       "</style>\n",
       "<table border=\"1\" class=\"dataframe\">\n",
       "  <thead>\n",
       "    <tr style=\"text-align: right;\">\n",
       "      <th></th>\n",
       "      <th>Year</th>\n",
       "      <th>Month</th>\n",
       "      <th>Rainfall</th>\n",
       "      <th>Temp_min</th>\n",
       "      <th>Temp_max</th>\n",
       "      <th>Hum_min</th>\n",
       "      <th>Hum_max</th>\n",
       "      <th>Time</th>\n",
       "    </tr>\n",
       "  </thead>\n",
       "  <tbody>\n",
       "    <tr>\n",
       "      <th>0</th>\n",
       "      <td>2010</td>\n",
       "      <td>January</td>\n",
       "      <td>130.2</td>\n",
       "      <td>22.1</td>\n",
       "      <td>32.1</td>\n",
       "      <td>NaN</td>\n",
       "      <td>NaN</td>\n",
       "      <td>2010-January</td>\n",
       "    </tr>\n",
       "    <tr>\n",
       "      <th>1</th>\n",
       "      <td>2010</td>\n",
       "      <td>February</td>\n",
       "      <td>41.3</td>\n",
       "      <td>22.6</td>\n",
       "      <td>33.9</td>\n",
       "      <td>NaN</td>\n",
       "      <td>NaN</td>\n",
       "      <td>2010-February</td>\n",
       "    </tr>\n",
       "    <tr>\n",
       "      <th>2</th>\n",
       "      <td>2010</td>\n",
       "      <td>March</td>\n",
       "      <td>171.5</td>\n",
       "      <td>23.1</td>\n",
       "      <td>35.2</td>\n",
       "      <td>NaN</td>\n",
       "      <td>NaN</td>\n",
       "      <td>2010-March</td>\n",
       "    </tr>\n",
       "    <tr>\n",
       "      <th>3</th>\n",
       "      <td>2010</td>\n",
       "      <td>April</td>\n",
       "      <td>421.7</td>\n",
       "      <td>23.7</td>\n",
       "      <td>33.5</td>\n",
       "      <td>NaN</td>\n",
       "      <td>NaN</td>\n",
       "      <td>2010-April</td>\n",
       "    </tr>\n",
       "    <tr>\n",
       "      <th>4</th>\n",
       "      <td>2010</td>\n",
       "      <td>May</td>\n",
       "      <td>793.3</td>\n",
       "      <td>24.0</td>\n",
       "      <td>31.8</td>\n",
       "      <td>NaN</td>\n",
       "      <td>NaN</td>\n",
       "      <td>2010-May</td>\n",
       "    </tr>\n",
       "  </tbody>\n",
       "</table>\n",
       "</div>"
      ],
      "text/plain": [
       "   Year     Month  Rainfall  Temp_min  Temp_max  Hum_min  Hum_max  \\\n",
       "0  2010   January     130.2      22.1      32.1      NaN      NaN   \n",
       "1  2010  February      41.3      22.6      33.9      NaN      NaN   \n",
       "2  2010     March     171.5      23.1      35.2      NaN      NaN   \n",
       "3  2010     April     421.7      23.7      33.5      NaN      NaN   \n",
       "4  2010       May     793.3      24.0      31.8      NaN      NaN   \n",
       "\n",
       "            Time  \n",
       "0   2010-January  \n",
       "1  2010-February  \n",
       "2     2010-March  \n",
       "3     2010-April  \n",
       "4       2010-May  "
      ]
     },
     "execution_count": 4,
     "metadata": {},
     "output_type": "execute_result"
    }
   ],
   "source": [
    "df.head()\n"
   ]
  },
  {
   "cell_type": "code",
   "execution_count": 5,
   "metadata": {},
   "outputs": [
    {
     "data": {
      "text/html": [
       "<div>\n",
       "<style scoped>\n",
       "    .dataframe tbody tr th:only-of-type {\n",
       "        vertical-align: middle;\n",
       "    }\n",
       "\n",
       "    .dataframe tbody tr th {\n",
       "        vertical-align: top;\n",
       "    }\n",
       "\n",
       "    .dataframe thead th {\n",
       "        text-align: right;\n",
       "    }\n",
       "</style>\n",
       "<table border=\"1\" class=\"dataframe\">\n",
       "  <thead>\n",
       "    <tr style=\"text-align: right;\">\n",
       "      <th></th>\n",
       "      <th>Time</th>\n",
       "      <th>Temp_max</th>\n",
       "    </tr>\n",
       "  </thead>\n",
       "  <tbody>\n",
       "    <tr>\n",
       "      <th>0</th>\n",
       "      <td>2010-January</td>\n",
       "      <td>32.1</td>\n",
       "    </tr>\n",
       "    <tr>\n",
       "      <th>1</th>\n",
       "      <td>2010-February</td>\n",
       "      <td>33.9</td>\n",
       "    </tr>\n",
       "    <tr>\n",
       "      <th>2</th>\n",
       "      <td>2010-March</td>\n",
       "      <td>35.2</td>\n",
       "    </tr>\n",
       "    <tr>\n",
       "      <th>3</th>\n",
       "      <td>2010-April</td>\n",
       "      <td>33.5</td>\n",
       "    </tr>\n",
       "    <tr>\n",
       "      <th>4</th>\n",
       "      <td>2010-May</td>\n",
       "      <td>31.8</td>\n",
       "    </tr>\n",
       "  </tbody>\n",
       "</table>\n",
       "</div>"
      ],
      "text/plain": [
       "            Time  Temp_max\n",
       "0   2010-January      32.1\n",
       "1  2010-February      33.9\n",
       "2     2010-March      35.2\n",
       "3     2010-April      33.5\n",
       "4       2010-May      31.8"
      ]
     },
     "execution_count": 5,
     "metadata": {},
     "output_type": "execute_result"
    }
   ],
   "source": [
    "#Slicing dataset\n",
    "temperature_max=df[[\"Time\",\"Temp_max\"]]\n",
    "temperature_max.head()\n"
   ]
  },
  {
   "cell_type": "code",
   "execution_count": 6,
   "metadata": {},
   "outputs": [
    {
     "name": "stderr",
     "output_type": "stream",
     "text": [
      "<ipython-input-6-e8149681f4bc>:1: SettingWithCopyWarning: \n",
      "A value is trying to be set on a copy of a slice from a DataFrame.\n",
      "Try using .loc[row_indexer,col_indexer] = value instead\n",
      "\n",
      "See the caveats in the documentation: https://pandas.pydata.org/pandas-docs/stable/user_guide/indexing.html#returning-a-view-versus-a-copy\n",
      "  temperature_max['Time']=pd.to_datetime(temperature_max['Time'])\n"
     ]
    }
   ],
   "source": [
    "temperature_max['Time']=pd.to_datetime(temperature_max['Time'])"
   ]
  },
  {
   "cell_type": "code",
   "execution_count": 7,
   "metadata": {},
   "outputs": [
    {
     "data": {
      "text/html": [
       "<div>\n",
       "<style scoped>\n",
       "    .dataframe tbody tr th:only-of-type {\n",
       "        vertical-align: middle;\n",
       "    }\n",
       "\n",
       "    .dataframe tbody tr th {\n",
       "        vertical-align: top;\n",
       "    }\n",
       "\n",
       "    .dataframe thead th {\n",
       "        text-align: right;\n",
       "    }\n",
       "</style>\n",
       "<table border=\"1\" class=\"dataframe\">\n",
       "  <thead>\n",
       "    <tr style=\"text-align: right;\">\n",
       "      <th></th>\n",
       "      <th>Time</th>\n",
       "      <th>Temp_max</th>\n",
       "    </tr>\n",
       "  </thead>\n",
       "  <tbody>\n",
       "    <tr>\n",
       "      <th>0</th>\n",
       "      <td>2010-01-01</td>\n",
       "      <td>32.1</td>\n",
       "    </tr>\n",
       "    <tr>\n",
       "      <th>1</th>\n",
       "      <td>2010-02-01</td>\n",
       "      <td>33.9</td>\n",
       "    </tr>\n",
       "    <tr>\n",
       "      <th>2</th>\n",
       "      <td>2010-03-01</td>\n",
       "      <td>35.2</td>\n",
       "    </tr>\n",
       "    <tr>\n",
       "      <th>3</th>\n",
       "      <td>2010-04-01</td>\n",
       "      <td>33.5</td>\n",
       "    </tr>\n",
       "    <tr>\n",
       "      <th>4</th>\n",
       "      <td>2010-05-01</td>\n",
       "      <td>31.8</td>\n",
       "    </tr>\n",
       "  </tbody>\n",
       "</table>\n",
       "</div>"
      ],
      "text/plain": [
       "        Time  Temp_max\n",
       "0 2010-01-01      32.1\n",
       "1 2010-02-01      33.9\n",
       "2 2010-03-01      35.2\n",
       "3 2010-04-01      33.5\n",
       "4 2010-05-01      31.8"
      ]
     },
     "execution_count": 7,
     "metadata": {},
     "output_type": "execute_result"
    }
   ],
   "source": [
    "temperature_max.head()"
   ]
  },
  {
   "cell_type": "code",
   "execution_count": 8,
   "metadata": {},
   "outputs": [
    {
     "data": {
      "text/plain": [
       "Time        0\n",
       "Temp_max    1\n",
       "dtype: int64"
      ]
     },
     "execution_count": 8,
     "metadata": {},
     "output_type": "execute_result"
    }
   ],
   "source": [
    "#Checking for missing values\n",
    "temperature_max.isna().sum()\n"
   ]
  },
  {
   "cell_type": "code",
   "execution_count": 9,
   "metadata": {},
   "outputs": [],
   "source": [
    "#Setting the time index\n",
    "temperature_max.set_index('Time',inplace=True)"
   ]
  },
  {
   "cell_type": "code",
   "execution_count": 10,
   "metadata": {},
   "outputs": [],
   "source": [
    "temperature_max=temperature_max.resample('MS').first()"
   ]
  },
  {
   "cell_type": "code",
   "execution_count": 11,
   "metadata": {},
   "outputs": [
    {
     "data": {
      "text/html": [
       "<div>\n",
       "<style scoped>\n",
       "    .dataframe tbody tr th:only-of-type {\n",
       "        vertical-align: middle;\n",
       "    }\n",
       "\n",
       "    .dataframe tbody tr th {\n",
       "        vertical-align: top;\n",
       "    }\n",
       "\n",
       "    .dataframe thead th {\n",
       "        text-align: right;\n",
       "    }\n",
       "</style>\n",
       "<table border=\"1\" class=\"dataframe\">\n",
       "  <thead>\n",
       "    <tr style=\"text-align: right;\">\n",
       "      <th></th>\n",
       "      <th>Temp_max</th>\n",
       "    </tr>\n",
       "    <tr>\n",
       "      <th>Time</th>\n",
       "      <th></th>\n",
       "    </tr>\n",
       "  </thead>\n",
       "  <tbody>\n",
       "    <tr>\n",
       "      <th>2010-01-01</th>\n",
       "      <td>32.1</td>\n",
       "    </tr>\n",
       "    <tr>\n",
       "      <th>2010-02-01</th>\n",
       "      <td>33.9</td>\n",
       "    </tr>\n",
       "    <tr>\n",
       "      <th>2010-03-01</th>\n",
       "      <td>35.2</td>\n",
       "    </tr>\n",
       "    <tr>\n",
       "      <th>2010-04-01</th>\n",
       "      <td>33.5</td>\n",
       "    </tr>\n",
       "    <tr>\n",
       "      <th>2010-05-01</th>\n",
       "      <td>31.8</td>\n",
       "    </tr>\n",
       "    <tr>\n",
       "      <th>2010-06-01</th>\n",
       "      <td>30.9</td>\n",
       "    </tr>\n",
       "    <tr>\n",
       "      <th>2010-07-01</th>\n",
       "      <td>30.8</td>\n",
       "    </tr>\n",
       "    <tr>\n",
       "      <th>2010-08-01</th>\n",
       "      <td>30.3</td>\n",
       "    </tr>\n",
       "    <tr>\n",
       "      <th>2010-09-01</th>\n",
       "      <td>30.9</td>\n",
       "    </tr>\n",
       "    <tr>\n",
       "      <th>2010-10-01</th>\n",
       "      <td>31.0</td>\n",
       "    </tr>\n",
       "    <tr>\n",
       "      <th>2010-11-01</th>\n",
       "      <td>30.7</td>\n",
       "    </tr>\n",
       "    <tr>\n",
       "      <th>2010-12-01</th>\n",
       "      <td>29.8</td>\n",
       "    </tr>\n",
       "    <tr>\n",
       "      <th>2011-01-01</th>\n",
       "      <td>29.9</td>\n",
       "    </tr>\n",
       "    <tr>\n",
       "      <th>2011-02-01</th>\n",
       "      <td>31.6</td>\n",
       "    </tr>\n",
       "    <tr>\n",
       "      <th>2011-03-01</th>\n",
       "      <td>33.2</td>\n",
       "    </tr>\n",
       "    <tr>\n",
       "      <th>2011-04-01</th>\n",
       "      <td>32.3</td>\n",
       "    </tr>\n",
       "    <tr>\n",
       "      <th>2011-05-01</th>\n",
       "      <td>31.9</td>\n",
       "    </tr>\n",
       "    <tr>\n",
       "      <th>2011-06-01</th>\n",
       "      <td>31.3</td>\n",
       "    </tr>\n",
       "    <tr>\n",
       "      <th>2011-07-01</th>\n",
       "      <td>30.6</td>\n",
       "    </tr>\n",
       "    <tr>\n",
       "      <th>2011-08-01</th>\n",
       "      <td>30.6</td>\n",
       "    </tr>\n",
       "  </tbody>\n",
       "</table>\n",
       "</div>"
      ],
      "text/plain": [
       "            Temp_max\n",
       "Time                \n",
       "2010-01-01      32.1\n",
       "2010-02-01      33.9\n",
       "2010-03-01      35.2\n",
       "2010-04-01      33.5\n",
       "2010-05-01      31.8\n",
       "2010-06-01      30.9\n",
       "2010-07-01      30.8\n",
       "2010-08-01      30.3\n",
       "2010-09-01      30.9\n",
       "2010-10-01      31.0\n",
       "2010-11-01      30.7\n",
       "2010-12-01      29.8\n",
       "2011-01-01      29.9\n",
       "2011-02-01      31.6\n",
       "2011-03-01      33.2\n",
       "2011-04-01      32.3\n",
       "2011-05-01      31.9\n",
       "2011-06-01      31.3\n",
       "2011-07-01      30.6\n",
       "2011-08-01      30.6"
      ]
     },
     "execution_count": 11,
     "metadata": {},
     "output_type": "execute_result"
    }
   ],
   "source": [
    "#removing missing values\n",
    "temp=temperature_max.fillna(method='bfill')\n",
    "temp.head(20)"
   ]
  },
  {
   "cell_type": "code",
   "execution_count": 12,
   "metadata": {},
   "outputs": [
    {
     "data": {
      "text/plain": [
       "Temp_max    0\n",
       "dtype: int64"
      ]
     },
     "execution_count": 12,
     "metadata": {},
     "output_type": "execute_result"
    }
   ],
   "source": [
    "#Checking for missing values\n",
    "temp.isna().sum()"
   ]
  },
  {
   "cell_type": "code",
   "execution_count": null,
   "metadata": {},
   "outputs": [],
   "source": []
  },
  {
   "cell_type": "code",
   "execution_count": null,
   "metadata": {},
   "outputs": [],
   "source": []
  },
  {
   "cell_type": "code",
   "execution_count": null,
   "metadata": {},
   "outputs": [],
   "source": []
  },
  {
   "cell_type": "code",
   "execution_count": null,
   "metadata": {},
   "outputs": [],
   "source": []
  },
  {
   "cell_type": "code",
   "execution_count": 13,
   "metadata": {},
   "outputs": [
    {
     "data": {
      "text/html": [
       "<div>\n",
       "<style scoped>\n",
       "    .dataframe tbody tr th:only-of-type {\n",
       "        vertical-align: middle;\n",
       "    }\n",
       "\n",
       "    .dataframe tbody tr th {\n",
       "        vertical-align: top;\n",
       "    }\n",
       "\n",
       "    .dataframe thead th {\n",
       "        text-align: right;\n",
       "    }\n",
       "</style>\n",
       "<table border=\"1\" class=\"dataframe\">\n",
       "  <thead>\n",
       "    <tr style=\"text-align: right;\">\n",
       "      <th></th>\n",
       "      <th>Temperature Max</th>\n",
       "    </tr>\n",
       "    <tr>\n",
       "      <th>Time</th>\n",
       "      <th></th>\n",
       "    </tr>\n",
       "  </thead>\n",
       "  <tbody>\n",
       "    <tr>\n",
       "      <th>2010-01-01</th>\n",
       "      <td>32.1</td>\n",
       "    </tr>\n",
       "    <tr>\n",
       "      <th>2010-02-01</th>\n",
       "      <td>33.9</td>\n",
       "    </tr>\n",
       "    <tr>\n",
       "      <th>2010-03-01</th>\n",
       "      <td>35.2</td>\n",
       "    </tr>\n",
       "    <tr>\n",
       "      <th>2010-04-01</th>\n",
       "      <td>33.5</td>\n",
       "    </tr>\n",
       "    <tr>\n",
       "      <th>2010-05-01</th>\n",
       "      <td>31.8</td>\n",
       "    </tr>\n",
       "  </tbody>\n",
       "</table>\n",
       "</div>"
      ],
      "text/plain": [
       "            Temperature Max\n",
       "Time                       \n",
       "2010-01-01             32.1\n",
       "2010-02-01             33.9\n",
       "2010-03-01             35.2\n",
       "2010-04-01             33.5\n",
       "2010-05-01             31.8"
      ]
     },
     "execution_count": 13,
     "metadata": {},
     "output_type": "execute_result"
    }
   ],
   "source": [
    "#Rename column\n",
    "temp = temp.rename(columns = {'Temp_max': 'Temperature Max'}, inplace = False)\n",
    "temp.head()"
   ]
  },
  {
   "cell_type": "code",
   "execution_count": 14,
   "metadata": {},
   "outputs": [
    {
     "data": {
      "text/plain": [
       "Temperature Max    0\n",
       "dtype: int64"
      ]
     },
     "execution_count": 14,
     "metadata": {},
     "output_type": "execute_result"
    }
   ],
   "source": [
    "#Checking for missing values\n",
    "temp.isna().sum()"
   ]
  },
  {
   "cell_type": "code",
   "execution_count": 15,
   "metadata": {},
   "outputs": [
    {
     "data": {
      "text/plain": [
       "<AxesSubplot:xlabel='Time'>"
      ]
     },
     "execution_count": 15,
     "metadata": {},
     "output_type": "execute_result"
    },
    {
     "data": {
      "image/png": "[encoded data removed]",
      "text/plain": [
       "<Figure size 864x360 with 1 Axes>"
      ]
     },
     "metadata": {
      "needs_background": "light"
     },
     "output_type": "display_data"
    }
   ],
   "source": [
    "temp.plot(figsize=(12,5))"
   ]
  },
  {
   "cell_type": "markdown",
   "metadata": {},
   "source": [
    "It can't be cleary identified trend. But there is some evidence for seasonality."
   ]
  },
  {
   "cell_type": "code",
   "execution_count": 16,
   "metadata": {},
   "outputs": [
    {
     "name": "stdout",
     "output_type": "stream",
     "text": [
      "ADF Test Statistic : -3.5535568699031423\n",
      "p-value : 0.006713576642947987\n",
      "#Lags Used : 14\n",
      "Number of Observations Used : 129\n",
      "strong evidence against the null hypothesis(Ho), reject the null hypothesis. Data has no unit root and is stationary\n"
     ]
    }
   ],
   "source": [
    "### ADF Test\n",
    "test_result=adfuller(temp['Temperature Max'])\n",
    "#Ho: The series is non stationary\n",
    "#H1: The series is stationary\n",
    "\n",
    "def adfuller_test(rainfall):\n",
    "    result=adfuller(rainfall)\n",
    "    labels = ['ADF Test Statistic','p-value','#Lags Used','Number of Observations Used']\n",
    "    for value,label in zip(result,labels):\n",
    "        print(label+' : '+str(value) )\n",
    "    if result[1] <= 0.05:\n",
    "        print(\"strong evidence against the null hypothesis(Ho), reject the null hypothesis. Data has no unit root and is stationary\")\n",
    "    else:\n",
    "        print(\"weak evidence against null hypothesis, time series has a unit root, indicating it is non-stationary \")\n",
    "    \n",
    "adfuller_test(temp['Temperature Max'])\n"
   ]
  },
  {
   "cell_type": "code",
   "execution_count": 17,
   "metadata": {},
   "outputs": [
    {
     "name": "stdout",
     "output_type": "stream",
     "text": [
      "KPSS Statistic: 0.06181436841050293\n",
      "p-value: 0.1\n",
      "num lags: 5\n",
      "Critial Values:\n",
      "   10% : 0.347\n",
      "   5% : 0.463\n",
      "   2.5% : 0.574\n",
      "   1% : 0.739\n",
      "Result: The series is stationary\n"
     ]
    },
    {
     "name": "stderr",
     "output_type": "stream",
     "text": [
      "C:\\Users\\isuru\\anaconda3\\lib\\site-packages\\statsmodels\\tsa\\stattools.py:2022: InterpolationWarning: The test statistic is outside of the range of p-values available in the\n",
      "look-up table. The actual p-value is greater than the p-value returned.\n",
      "\n",
      "  warnings.warn(\n"
     ]
    }
   ],
   "source": [
    "# KPSS test\n",
    "from statsmodels.tsa.stattools import kpss\n",
    "def kpss_test(series, **kw):    \n",
    "    statistic, p_value, n_lags, critical_values = kpss(series, **kw)\n",
    "    # Format Output\n",
    "    print(f'KPSS Statistic: {statistic}')\n",
    "    print(f'p-value: {p_value}')\n",
    "    print(f'num lags: {n_lags}')\n",
    "    print('Critial Values:')\n",
    "    for key, value in critical_values.items():\n",
    "        print(f'   {key} : {value}')\n",
    "    print(f'Result: The series is {\"not \" if p_value < 0.05 else \"\"}stationary')\n",
    "\n",
    "kpss_test(temp['Temperature Max'])\n"
   ]
  },
  {
   "cell_type": "code",
   "execution_count": 18,
   "metadata": {},
   "outputs": [
    {
     "name": "stdout",
     "output_type": "stream",
     "text": [
      "     Phillips-Perron Test (Z-tau)    \n",
      "=====================================\n",
      "Test Statistic                 -4.024\n",
      "P-value                         0.001\n",
      "Lags                               14\n",
      "-------------------------------------\n",
      "\n",
      "Trend: Constant\n",
      "Critical Values: -3.48 (1%), -2.88 (5%), -2.58 (10%)\n",
      "Null Hypothesis: The process contains a unit root.\n",
      "Alternative Hypothesis: The process is weakly stationary.\n"
     ]
    }
   ],
   "source": [
    "#PhillipsPerron Test\n",
    "from arch.unitroot import PhillipsPerron\n",
    "\n",
    "pp = PhillipsPerron(temp['Temperature Max'].astype(float))\n",
    "print(pp.summary().as_text())\n"
   ]
  },
  {
   "cell_type": "markdown",
   "metadata": {},
   "source": [
    "# ACF and PACF plots"
   ]
  },
  {
   "cell_type": "code",
   "execution_count": 19,
   "metadata": {},
   "outputs": [
    {
     "name": "stderr",
     "output_type": "stream",
     "text": [
      "C:\\Users\\isuru\\anaconda3\\lib\\site-packages\\statsmodels\\graphics\\tsaplots.py:348: FutureWarning: The default method 'yw' can produce PACF values outside of the [-1,1] interval. After 0.13, the default will change tounadjusted Yule-Walker ('ywm'). You can use this method now by setting method='ywm'.\n",
      "  warnings.warn(\n"
     ]
    },
    {
     "data": {
      "image/png": "[encoded data removed]",
      "text/plain": [
       "<Figure size 864x576 with 2 Axes>"
      ]
     },
     "metadata": {
      "needs_background": "light"
     },
     "output_type": "display_data"
    }
   ],
   "source": [
    "fig = plt.figure(figsize=(12,8))\n",
    "ax1 = fig.add_subplot(211)\n",
    "fig = sm.graphics.tsa.plot_acf(temp['Temperature Max'],lags=40,ax=ax1)\n",
    "ax2 = fig.add_subplot(212)\n",
    "fig = sm.graphics.tsa.plot_pacf(temp['Temperature Max'],lags=40,ax=ax2)\n"
   ]
  },
  {
   "cell_type": "markdown",
   "metadata": {},
   "source": [
    "According to the PACF and ACF plots, series is likely to follow a MA process. Better to start with p=0,q=3, d=0"
   ]
  },
  {
   "cell_type": "code",
   "execution_count": 20,
   "metadata": {},
   "outputs": [
    {
     "name": "stdout",
     "output_type": "stream",
     "text": [
      " ARIMA(0,0,0)(0,0,0)[12] intercept   : AIC=495.999, Time=0.02 sec\n",
      " ARIMA(0,0,0)(0,0,1)[12] intercept   : AIC=450.022, Time=0.24 sec\n",
      " ARIMA(0,0,0)(0,0,2)[12] intercept   : AIC=425.889, Time=0.79 sec\n",
      " ARIMA(0,0,0)(0,0,3)[12] intercept   : AIC=423.354, Time=1.55 sec\n",
      " ARIMA(0,0,0)(1,0,0)[12] intercept   : AIC=inf, Time=0.87 sec\n",
      " ARIMA(0,0,0)(1,0,1)[12] intercept   : AIC=406.952, Time=1.42 sec\n",
      " ARIMA(0,0,0)(1,0,2)[12] intercept   : AIC=425.754, Time=5.83 sec\n",
      " ARIMA(0,0,0)(1,0,3)[12] intercept   : AIC=392.842, Time=10.58 sec\n",
      " ARIMA(0,0,0)(2,0,0)[12] intercept   : AIC=inf, Time=4.02 sec\n",
      " ARIMA(0,0,0)(2,0,1)[12] intercept   : AIC=inf, Time=6.23 sec\n",
      " ARIMA(0,0,0)(2,0,2)[12] intercept   : AIC=inf, Time=7.88 sec\n",
      " ARIMA(0,0,0)(2,0,3)[12] intercept   : AIC=inf, Time=9.96 sec\n",
      " ARIMA(0,0,1)(0,0,0)[12] intercept   : AIC=423.806, Time=0.08 sec\n",
      " ARIMA(0,0,1)(0,0,1)[12] intercept   : AIC=393.120, Time=0.23 sec\n",
      " ARIMA(0,0,1)(0,0,2)[12] intercept   : AIC=384.146, Time=0.86 sec\n",
      " ARIMA(0,0,1)(0,0,3)[12] intercept   : AIC=383.783, Time=1.52 sec\n",
      " ARIMA(0,0,1)(1,0,0)[12] intercept   : AIC=inf, Time=1.14 sec\n",
      " ARIMA(0,0,1)(1,0,1)[12] intercept   : AIC=inf, Time=1.05 sec\n",
      " ARIMA(0,0,1)(1,0,2)[12] intercept   : AIC=inf, Time=6.33 sec\n",
      " ARIMA(0,0,1)(1,0,3)[12] intercept   : AIC=368.347, Time=9.16 sec\n",
      " ARIMA(0,0,1)(2,0,0)[12] intercept   : AIC=363.514, Time=4.29 sec\n",
      " ARIMA(0,0,1)(2,0,1)[12] intercept   : AIC=inf, Time=4.31 sec\n",
      " ARIMA(0,0,1)(2,0,2)[12] intercept   : AIC=inf, Time=8.55 sec\n",
      " ARIMA(0,0,2)(0,0,0)[12] intercept   : AIC=395.985, Time=0.09 sec\n",
      " ARIMA(0,0,2)(0,0,1)[12] intercept   : AIC=373.657, Time=0.33 sec\n",
      " ARIMA(0,0,2)(0,0,2)[12] intercept   : AIC=371.339, Time=1.29 sec\n",
      " ARIMA(0,0,2)(0,0,3)[12] intercept   : AIC=367.393, Time=2.30 sec\n",
      " ARIMA(0,0,2)(1,0,0)[12] intercept   : AIC=448.197, Time=1.86 sec\n",
      " ARIMA(0,0,2)(1,0,1)[12] intercept   : AIC=inf, Time=2.80 sec\n",
      " ARIMA(0,0,2)(1,0,2)[12] intercept   : AIC=inf, Time=9.29 sec\n",
      " ARIMA(0,0,2)(2,0,0)[12] intercept   : AIC=357.407, Time=5.81 sec\n",
      " ARIMA(0,0,2)(2,0,1)[12] intercept   : AIC=inf, Time=8.08 sec\n",
      " ARIMA(0,0,3)(0,0,0)[12] intercept   : AIC=396.400, Time=0.13 sec\n",
      " ARIMA(0,0,3)(0,0,1)[12] intercept   : AIC=375.505, Time=0.40 sec\n",
      " ARIMA(0,0,3)(0,0,2)[12] intercept   : AIC=373.277, Time=1.65 sec\n",
      " ARIMA(0,0,3)(1,0,0)[12] intercept   : AIC=inf, Time=1.93 sec\n",
      " ARIMA(0,0,3)(1,0,1)[12] intercept   : AIC=inf, Time=2.60 sec\n",
      " ARIMA(0,0,3)(2,0,0)[12] intercept   : AIC=359.422, Time=6.04 sec\n",
      " ARIMA(1,0,0)(0,0,0)[12] intercept   : AIC=407.264, Time=0.13 sec\n",
      " ARIMA(1,0,0)(0,0,1)[12] intercept   : AIC=376.451, Time=0.58 sec\n",
      " ARIMA(1,0,0)(0,0,2)[12] intercept   : AIC=372.353, Time=2.56 sec\n",
      " ARIMA(1,0,0)(0,0,3)[12] intercept   : AIC=367.738, Time=5.78 sec\n",
      " ARIMA(1,0,0)(1,0,0)[12] intercept   : AIC=inf, Time=0.81 sec\n",
      " ARIMA(1,0,0)(1,0,1)[12] intercept   : AIC=inf, Time=2.52 sec\n",
      " ARIMA(1,0,0)(1,0,2)[12] intercept   : AIC=381.004, Time=8.33 sec\n",
      " ARIMA(1,0,0)(1,0,3)[12] intercept   : AIC=343.630, Time=10.37 sec\n",
      " ARIMA(1,0,0)(2,0,0)[12] intercept   : AIC=354.245, Time=3.09 sec\n",
      " ARIMA(1,0,0)(2,0,1)[12] intercept   : AIC=inf, Time=5.43 sec\n",
      " ARIMA(1,0,0)(2,0,2)[12] intercept   : AIC=inf, Time=6.53 sec\n",
      " ARIMA(1,0,1)(0,0,0)[12] intercept   : AIC=399.301, Time=0.33 sec\n",
      " ARIMA(1,0,1)(0,0,1)[12] intercept   : AIC=375.120, Time=0.78 sec\n",
      " ARIMA(1,0,1)(0,0,2)[12] intercept   : AIC=372.588, Time=3.08 sec\n",
      " ARIMA(1,0,1)(0,0,3)[12] intercept   : AIC=369.194, Time=6.85 sec\n",
      " ARIMA(1,0,1)(1,0,0)[12] intercept   : AIC=inf, Time=1.57 sec\n",
      " ARIMA(1,0,1)(1,0,1)[12] intercept   : AIC=inf, Time=2.41 sec\n",
      " ARIMA(1,0,1)(1,0,2)[12] intercept   : AIC=inf, Time=7.53 sec\n",
      " ARIMA(1,0,1)(2,0,0)[12] intercept   : AIC=356.012, Time=5.24 sec\n",
      " ARIMA(1,0,1)(2,0,1)[12] intercept   : AIC=inf, Time=9.33 sec\n",
      " ARIMA(1,0,2)(0,0,0)[12] intercept   : AIC=395.705, Time=0.59 sec\n",
      " ARIMA(1,0,2)(0,0,1)[12] intercept   : AIC=374.861, Time=1.34 sec\n",
      " ARIMA(1,0,2)(0,0,2)[12] intercept   : AIC=373.451, Time=5.80 sec\n",
      " ARIMA(1,0,2)(1,0,0)[12] intercept   : AIC=484.943, Time=4.44 sec\n",
      " ARIMA(1,0,2)(1,0,1)[12] intercept   : AIC=inf, Time=3.51 sec\n",
      " ARIMA(1,0,2)(2,0,0)[12] intercept   : AIC=355.465, Time=6.49 sec\n",
      " ARIMA(1,0,3)(0,0,0)[12] intercept   : AIC=397.583, Time=0.14 sec\n",
      " ARIMA(1,0,3)(0,0,1)[12] intercept   : AIC=376.836, Time=1.75 sec\n",
      " ARIMA(1,0,3)(1,0,0)[12] intercept   : AIC=inf, Time=2.66 sec\n",
      " ARIMA(2,0,0)(0,0,0)[12] intercept   : AIC=392.251, Time=0.09 sec\n",
      " ARIMA(2,0,0)(0,0,1)[12] intercept   : AIC=373.312, Time=0.40 sec\n",
      " ARIMA(2,0,0)(0,0,2)[12] intercept   : AIC=371.906, Time=3.74 sec\n",
      " ARIMA(2,0,0)(0,0,3)[12] intercept   : AIC=368.844, Time=6.12 sec\n"
     ]
    },
    {
     "name": "stderr",
     "output_type": "stream",
     "text": [
      "C:\\Users\\isuru\\anaconda3\\lib\\site-packages\\pmdarima\\arima\\_auto_solvers.py:522: ModelFitWarning: Error fitting  ARIMA(2,0,0)(1,0,0)[12] intercept (if you do not want to see these warnings, run with error_action=\"ignore\").\n",
      "  warnings.warn(warning_str, ModelFitWarning)\n"
     ]
    },
    {
     "name": "stdout",
     "output_type": "stream",
     "text": [
      " ARIMA(2,0,0)(1,0,0)[12] intercept   : AIC=inf, Time=nan sec\n",
      " ARIMA(2,0,0)(1,0,1)[12] intercept   : AIC=336.585, Time=2.53 sec\n",
      " ARIMA(2,0,0)(1,0,2)[12] intercept   : AIC=inf, Time=7.89 sec\n",
      " ARIMA(2,0,0)(2,0,0)[12] intercept   : AIC=355.954, Time=7.20 sec\n"
     ]
    },
    {
     "name": "stderr",
     "output_type": "stream",
     "text": [
      "C:\\Users\\isuru\\anaconda3\\lib\\site-packages\\pmdarima\\arima\\_auto_solvers.py:522: ModelFitWarning: Error fitting  ARIMA(2,0,0)(2,0,1)[12] intercept (if you do not want to see these warnings, run with error_action=\"ignore\").\n",
      "  warnings.warn(warning_str, ModelFitWarning)\n"
     ]
    },
    {
     "name": "stdout",
     "output_type": "stream",
     "text": [
      " ARIMA(2,0,0)(2,0,1)[12] intercept   : AIC=inf, Time=nan sec\n",
      " ARIMA(2,0,1)(0,0,0)[12] intercept   : AIC=380.559, Time=0.74 sec\n",
      " ARIMA(2,0,1)(0,0,1)[12] intercept   : AIC=368.419, Time=1.36 sec\n",
      " ARIMA(2,0,1)(0,0,2)[12] intercept   : AIC=371.279, Time=6.53 sec\n",
      " ARIMA(2,0,1)(1,0,0)[12] intercept   : AIC=inf, Time=2.51 sec\n",
      " ARIMA(2,0,1)(1,0,1)[12] intercept   : AIC=inf, Time=2.12 sec\n",
      " ARIMA(2,0,1)(2,0,0)[12] intercept   : AIC=364.498, Time=6.54 sec\n",
      " ARIMA(2,0,2)(0,0,0)[12] intercept   : AIC=386.555, Time=1.02 sec\n",
      " ARIMA(2,0,2)(0,0,1)[12] intercept   : AIC=376.731, Time=1.57 sec\n",
      " ARIMA(2,0,2)(1,0,0)[12] intercept   : AIC=inf, Time=2.80 sec\n",
      " ARIMA(2,0,3)(0,0,0)[12] intercept   : AIC=399.357, Time=0.74 sec\n",
      " ARIMA(3,0,0)(0,0,0)[12] intercept   : AIC=387.336, Time=0.14 sec\n",
      " ARIMA(3,0,0)(0,0,1)[12] intercept   : AIC=371.601, Time=0.69 sec\n",
      " ARIMA(3,0,0)(0,0,2)[12] intercept   : AIC=372.082, Time=1.91 sec\n"
     ]
    },
    {
     "name": "stderr",
     "output_type": "stream",
     "text": [
      "C:\\Users\\isuru\\anaconda3\\lib\\site-packages\\pmdarima\\arima\\_auto_solvers.py:522: ModelFitWarning: Error fitting  ARIMA(3,0,0)(1,0,0)[12] intercept (if you do not want to see these warnings, run with error_action=\"ignore\").\n",
      "  warnings.warn(warning_str, ModelFitWarning)\n"
     ]
    },
    {
     "name": "stdout",
     "output_type": "stream",
     "text": [
      " ARIMA(3,0,0)(1,0,0)[12] intercept   : AIC=inf, Time=nan sec\n",
      " ARIMA(3,0,0)(1,0,1)[12] intercept   : AIC=417.895, Time=2.60 sec\n",
      " ARIMA(3,0,0)(2,0,0)[12] intercept   : AIC=368.867, Time=5.85 sec\n",
      " ARIMA(3,0,1)(0,0,0)[12] intercept   : AIC=382.660, Time=1.12 sec\n",
      " ARIMA(3,0,1)(0,0,1)[12] intercept   : AIC=369.176, Time=2.41 sec\n"
     ]
    },
    {
     "name": "stderr",
     "output_type": "stream",
     "text": [
      "C:\\Users\\isuru\\anaconda3\\lib\\site-packages\\pmdarima\\arima\\_auto_solvers.py:522: ModelFitWarning: Error fitting  ARIMA(3,0,1)(1,0,0)[12] intercept (if you do not want to see these warnings, run with error_action=\"ignore\").\n",
      "  warnings.warn(warning_str, ModelFitWarning)\n"
     ]
    },
    {
     "name": "stdout",
     "output_type": "stream",
     "text": [
      " ARIMA(3,0,1)(1,0,0)[12] intercept   : AIC=inf, Time=nan sec\n",
      " ARIMA(3,0,2)(0,0,0)[12] intercept   : AIC=385.423, Time=1.05 sec\n",
      " ARIMA(4,0,0)(0,0,0)[12] intercept   : AIC=387.925, Time=0.43 sec\n",
      " ARIMA(4,0,0)(0,0,1)[12] intercept   : AIC=372.293, Time=1.10 sec\n",
      " ARIMA(4,0,0)(1,0,0)[12] intercept   : AIC=inf, Time=1.02 sec\n",
      " ARIMA(4,0,1)(0,0,0)[12] intercept   : AIC=389.507, Time=0.76 sec\n",
      "\n",
      "Best model:  ARIMA(2,0,0)(1,0,1)[12] intercept\n",
      "Total fit time: 327.695 seconds\n"
     ]
    }
   ],
   "source": [
    "arima_model=auto_arima(temp['Temperature Max'].astype(float),start_q=0,max_q=3,max_p=4,start_Q=0,max_Q=3,m=12,seasonal=True,error_action='warn',trace=True,supress_warnings=True,stepwise=False,random_state=20,n_fits=70,information_criterion='aic',maxiter=70)\n"
   ]
  },
  {
   "cell_type": "code",
   "execution_count": 21,
   "metadata": {},
   "outputs": [
    {
     "data": {
      "text/html": [
       "<table class=\"simpletable\">\n",
       "<caption>SARIMAX Results</caption>\n",
       "<tr>\n",
       "  <th>Dep. Variable:</th>            <td>Temperature Max</td>         <th>  No. Observations:  </th>    <td>144</td>  \n",
       "</tr>\n",
       "<tr>\n",
       "  <th>Model:</th>           <td>SARIMAX(2, 0, 0)x(1, 0, [1], 12)</td> <th>  Log Likelihood     </th> <td>-179.730</td>\n",
       "</tr>\n",
       "<tr>\n",
       "  <th>Date:</th>                    <td>Thu, 14 Apr 2022</td>         <th>  AIC                </th>  <td>369.459</td>\n",
       "</tr>\n",
       "<tr>\n",
       "  <th>Time:</th>                        <td>00:31:28</td>             <th>  BIC                </th>  <td>384.308</td>\n",
       "</tr>\n",
       "<tr>\n",
       "  <th>Sample:</th>                     <td>01-01-2010</td>            <th>  HQIC               </th>  <td>375.493</td>\n",
       "</tr>\n",
       "<tr>\n",
       "  <th></th>                           <td>- 12-01-2021</td>           <th>                     </th>     <td> </td>   \n",
       "</tr>\n",
       "<tr>\n",
       "  <th>Covariance Type:</th>                <td>opg</td>               <th>                     </th>     <td> </td>   \n",
       "</tr>\n",
       "</table>\n",
       "<table class=\"simpletable\">\n",
       "<tr>\n",
       "      <td></td>        <th>coef</th>     <th>std err</th>      <th>z</th>      <th>P>|z|</th>  <th>[0.025</th>    <th>0.975]</th>  \n",
       "</tr>\n",
       "<tr>\n",
       "  <th>ar.L1</th>    <td>    0.6763</td> <td>    0.081</td> <td>    8.394</td> <td> 0.000</td> <td>    0.518</td> <td>    0.834</td>\n",
       "</tr>\n",
       "<tr>\n",
       "  <th>ar.L2</th>    <td>    0.3232</td> <td>    0.081</td> <td>    4.011</td> <td> 0.000</td> <td>    0.165</td> <td>    0.481</td>\n",
       "</tr>\n",
       "<tr>\n",
       "  <th>ar.S.L12</th> <td>    0.9993</td> <td>    0.005</td> <td>  213.213</td> <td> 0.000</td> <td>    0.990</td> <td>    1.008</td>\n",
       "</tr>\n",
       "<tr>\n",
       "  <th>ma.S.L12</th> <td>   -0.9551</td> <td>    0.144</td> <td>   -6.637</td> <td> 0.000</td> <td>   -1.237</td> <td>   -0.673</td>\n",
       "</tr>\n",
       "<tr>\n",
       "  <th>sigma2</th>   <td>    0.5353</td> <td>    0.074</td> <td>    7.240</td> <td> 0.000</td> <td>    0.390</td> <td>    0.680</td>\n",
       "</tr>\n",
       "</table>\n",
       "<table class=\"simpletable\">\n",
       "<tr>\n",
       "  <th>Ljung-Box (L1) (Q):</th>     <td>1.23</td> <th>  Jarque-Bera (JB):  </th> <td>11.11</td>\n",
       "</tr>\n",
       "<tr>\n",
       "  <th>Prob(Q):</th>                <td>0.27</td> <th>  Prob(JB):          </th> <td>0.00</td> \n",
       "</tr>\n",
       "<tr>\n",
       "  <th>Heteroskedasticity (H):</th> <td>1.23</td> <th>  Skew:              </th> <td>0.32</td> \n",
       "</tr>\n",
       "<tr>\n",
       "  <th>Prob(H) (two-sided):</th>    <td>0.47</td> <th>  Kurtosis:          </th> <td>4.20</td> \n",
       "</tr>\n",
       "</table><br/><br/>Warnings:<br/>[1] Covariance matrix calculated using the outer product of gradients (complex-step)."
      ],
      "text/plain": [
       "<class 'statsmodels.iolib.summary.Summary'>\n",
       "\"\"\"\n",
       "                                      SARIMAX Results                                       \n",
       "============================================================================================\n",
       "Dep. Variable:                      Temperature Max   No. Observations:                  144\n",
       "Model:             SARIMAX(2, 0, 0)x(1, 0, [1], 12)   Log Likelihood                -179.730\n",
       "Date:                              Thu, 14 Apr 2022   AIC                            369.459\n",
       "Time:                                      00:31:28   BIC                            384.308\n",
       "Sample:                                  01-01-2010   HQIC                           375.493\n",
       "                                       - 12-01-2021                                         \n",
       "Covariance Type:                                opg                                         \n",
       "==============================================================================\n",
       "                 coef    std err          z      P>|z|      [0.025      0.975]\n",
       "------------------------------------------------------------------------------\n",
       "ar.L1          0.6763      0.081      8.394      0.000       0.518       0.834\n",
       "ar.L2          0.3232      0.081      4.011      0.000       0.165       0.481\n",
       "ar.S.L12       0.9993      0.005    213.213      0.000       0.990       1.008\n",
       "ma.S.L12      -0.9551      0.144     -6.637      0.000      -1.237      -0.673\n",
       "sigma2         0.5353      0.074      7.240      0.000       0.390       0.680\n",
       "===================================================================================\n",
       "Ljung-Box (L1) (Q):                   1.23   Jarque-Bera (JB):                11.11\n",
       "Prob(Q):                              0.27   Prob(JB):                         0.00\n",
       "Heteroskedasticity (H):               1.23   Skew:                             0.32\n",
       "Prob(H) (two-sided):                  0.47   Kurtosis:                         4.20\n",
       "===================================================================================\n",
       "\n",
       "Warnings:\n",
       "[1] Covariance matrix calculated using the outer product of gradients (complex-step).\n",
       "\"\"\""
      ]
     },
     "execution_count": 21,
     "metadata": {},
     "output_type": "execute_result"
    }
   ],
   "source": [
    "model=sm.tsa.statespace.SARIMAX(temp['Temperature Max'].astype('float'),order=(2, 0, 0),seasonal_order=(1,0,1,12))\n",
    "results=model.fit()\n",
    "results.summary()\n"
   ]
  },
  {
   "cell_type": "code",
   "execution_count": 22,
   "metadata": {},
   "outputs": [
    {
     "data": {
      "text/plain": [
       "<AxesSubplot:xlabel='Time'>"
      ]
     },
     "execution_count": 22,
     "metadata": {},
     "output_type": "execute_result"
    },
    {
     "data": {
      "image/png": "[encoded data removed]",
      "text/plain": [
       "<Figure size 864x576 with 1 Axes>"
      ]
     },
     "metadata": {
      "needs_background": "light"
     },
     "output_type": "display_data"
    }
   ],
   "source": [
    "temp['Forecast']=results.predict(start=90,end=141,dynamic=True)\n",
    "temp[['Temperature Max','Forecast']].plot(figsize=(12,8))\n"
   ]
  },
  {
   "cell_type": "code",
   "execution_count": 23,
   "metadata": {},
   "outputs": [
    {
     "data": {
      "text/html": [
       "<div>\n",
       "<style scoped>\n",
       "    .dataframe tbody tr th:only-of-type {\n",
       "        vertical-align: middle;\n",
       "    }\n",
       "\n",
       "    .dataframe tbody tr th {\n",
       "        vertical-align: top;\n",
       "    }\n",
       "\n",
       "    .dataframe thead th {\n",
       "        text-align: right;\n",
       "    }\n",
       "</style>\n",
       "<table border=\"1\" class=\"dataframe\">\n",
       "  <thead>\n",
       "    <tr style=\"text-align: right;\">\n",
       "      <th></th>\n",
       "      <th>Temperature Max</th>\n",
       "      <th>Forecast</th>\n",
       "    </tr>\n",
       "    <tr>\n",
       "      <th>Time</th>\n",
       "      <th></th>\n",
       "      <th></th>\n",
       "    </tr>\n",
       "  </thead>\n",
       "  <tbody>\n",
       "    <tr>\n",
       "      <th>2021-08-01</th>\n",
       "      <td>30.5</td>\n",
       "      <td>30.525005</td>\n",
       "    </tr>\n",
       "    <tr>\n",
       "      <th>2021-09-01</th>\n",
       "      <td>30.8</td>\n",
       "      <td>30.810792</td>\n",
       "    </tr>\n",
       "    <tr>\n",
       "      <th>2021-10-01</th>\n",
       "      <td>30.9</td>\n",
       "      <td>31.330404</td>\n",
       "    </tr>\n",
       "    <tr>\n",
       "      <th>2021-11-01</th>\n",
       "      <td>30.3</td>\n",
       "      <td>NaN</td>\n",
       "    </tr>\n",
       "    <tr>\n",
       "      <th>2021-12-01</th>\n",
       "      <td>32.7</td>\n",
       "      <td>NaN</td>\n",
       "    </tr>\n",
       "  </tbody>\n",
       "</table>\n",
       "</div>"
      ],
      "text/plain": [
       "            Temperature Max   Forecast\n",
       "Time                                  \n",
       "2021-08-01             30.5  30.525005\n",
       "2021-09-01             30.8  30.810792\n",
       "2021-10-01             30.9  31.330404\n",
       "2021-11-01             30.3        NaN\n",
       "2021-12-01             32.7        NaN"
      ]
     },
     "execution_count": 23,
     "metadata": {},
     "output_type": "execute_result"
    }
   ],
   "source": [
    "temp.tail()\n",
    "\n",
    "\n"
   ]
  },
  {
   "cell_type": "code",
   "execution_count": null,
   "metadata": {},
   "outputs": [],
   "source": []
  }
 ],
 "metadata": {
  "kernelspec": {
   "display_name": "Python 3",
   "language": "python",
   "name": "python3"
  },
  "language_info": {
   "codemirror_mode": {
    "name": "ipython",
    "version": 3
   },
   "file_extension": ".py",
   "mimetype": "text/x-python",
   "name": "python",
   "nbconvert_exporter": "python",
   "pygments_lexer": "ipython3",
   "version": "3.8.5"
  }
 },
 "nbformat": 4,
 "nbformat_minor": 4
}
