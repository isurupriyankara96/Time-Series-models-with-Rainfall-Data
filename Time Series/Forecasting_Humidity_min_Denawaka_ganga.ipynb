{
 "cells": [
  {
   "cell_type": "code",
   "execution_count": 2,
   "metadata": {},
   "outputs": [],
   "source": [
    "import numpy as np\n",
    "import pandas as pd\n",
    "import matplotlib.pyplot as plt\n",
    "%matplotlib inline\n",
    "from statsmodels.tsa.stattools import adfuller \n",
    "from statsmodels.graphics.tsaplots import plot_acf,plot_pacf\n",
    "import statsmodels.api as sm\n",
    "from sklearn.metrics import mean_absolute_error\n",
    "from statsmodels.tsa.arima_model import ARIMA\n",
    "from math import sqrt\n",
    "from pmdarima import auto_arima\n",
    "\n",
    "\n",
    "\n",
    "\n"
   ]
  },
  {
   "cell_type": "code",
   "execution_count": 3,
   "metadata": {},
   "outputs": [
    {
     "data": {
      "text/html": [
       "<div>\n",
       "<style scoped>\n",
       "    .dataframe tbody tr th:only-of-type {\n",
       "        vertical-align: middle;\n",
       "    }\n",
       "\n",
       "    .dataframe tbody tr th {\n",
       "        vertical-align: top;\n",
       "    }\n",
       "\n",
       "    .dataframe thead th {\n",
       "        text-align: right;\n",
       "    }\n",
       "</style>\n",
       "<table border=\"1\" class=\"dataframe\">\n",
       "  <thead>\n",
       "    <tr style=\"text-align: right;\">\n",
       "      <th></th>\n",
       "      <th>Year</th>\n",
       "      <th>Month</th>\n",
       "      <th>Rainfall</th>\n",
       "      <th>Temp_min</th>\n",
       "      <th>Temp_max</th>\n",
       "      <th>Hum_min</th>\n",
       "      <th>Hum_max</th>\n",
       "    </tr>\n",
       "  </thead>\n",
       "  <tbody>\n",
       "    <tr>\n",
       "      <th>0</th>\n",
       "      <td>2010</td>\n",
       "      <td>January</td>\n",
       "      <td>233.6</td>\n",
       "      <td>22.1</td>\n",
       "      <td>32.1</td>\n",
       "      <td>NaN</td>\n",
       "      <td>NaN</td>\n",
       "    </tr>\n",
       "    <tr>\n",
       "      <th>1</th>\n",
       "      <td>2010</td>\n",
       "      <td>February</td>\n",
       "      <td>111.9</td>\n",
       "      <td>22.6</td>\n",
       "      <td>33.9</td>\n",
       "      <td>NaN</td>\n",
       "      <td>NaN</td>\n",
       "    </tr>\n",
       "    <tr>\n",
       "      <th>2</th>\n",
       "      <td>2010</td>\n",
       "      <td>March</td>\n",
       "      <td>157.5</td>\n",
       "      <td>23.1</td>\n",
       "      <td>35.2</td>\n",
       "      <td>NaN</td>\n",
       "      <td>NaN</td>\n",
       "    </tr>\n",
       "    <tr>\n",
       "      <th>3</th>\n",
       "      <td>2010</td>\n",
       "      <td>April</td>\n",
       "      <td>438.3</td>\n",
       "      <td>23.7</td>\n",
       "      <td>33.5</td>\n",
       "      <td>NaN</td>\n",
       "      <td>NaN</td>\n",
       "    </tr>\n",
       "    <tr>\n",
       "      <th>4</th>\n",
       "      <td>2010</td>\n",
       "      <td>May</td>\n",
       "      <td>658.5</td>\n",
       "      <td>24.0</td>\n",
       "      <td>31.8</td>\n",
       "      <td>NaN</td>\n",
       "      <td>NaN</td>\n",
       "    </tr>\n",
       "  </tbody>\n",
       "</table>\n",
       "</div>"
      ],
      "text/plain": [
       "   Year     Month  Rainfall  Temp_min  Temp_max  Hum_min  Hum_max\n",
       "0  2010   January     233.6      22.1      32.1      NaN      NaN\n",
       "1  2010  February     111.9      22.6      33.9      NaN      NaN\n",
       "2  2010     March     157.5      23.1      35.2      NaN      NaN\n",
       "3  2010     April     438.3      23.7      33.5      NaN      NaN\n",
       "4  2010       May     658.5      24.0      31.8      NaN      NaN"
      ]
     },
     "execution_count": 3,
     "metadata": {},
     "output_type": "execute_result"
    }
   ],
   "source": [
    "df=pd.read_csv('Denawaka_project.csv')\n",
    "df.head()\n",
    "\n",
    "\n",
    "\n",
    "\n",
    "\n",
    "\n"
   ]
  },
  {
   "cell_type": "code",
   "execution_count": 51,
   "metadata": {},
   "outputs": [],
   "source": [
    "df[\"Time\"]=df[\"Year\"].astype(str)+\"-\"+df[\"Month\"].astype(str)\n",
    "\n",
    "\n",
    "\n",
    "\n",
    "\n"
   ]
  },
  {
   "cell_type": "code",
   "execution_count": 52,
   "metadata": {},
   "outputs": [
    {
     "data": {
      "text/html": [
       "<div>\n",
       "<style scoped>\n",
       "    .dataframe tbody tr th:only-of-type {\n",
       "        vertical-align: middle;\n",
       "    }\n",
       "\n",
       "    .dataframe tbody tr th {\n",
       "        vertical-align: top;\n",
       "    }\n",
       "\n",
       "    .dataframe thead th {\n",
       "        text-align: right;\n",
       "    }\n",
       "</style>\n",
       "<table border=\"1\" class=\"dataframe\">\n",
       "  <thead>\n",
       "    <tr style=\"text-align: right;\">\n",
       "      <th></th>\n",
       "      <th>Year</th>\n",
       "      <th>Month</th>\n",
       "      <th>Rainfall</th>\n",
       "      <th>Temp_min</th>\n",
       "      <th>Temp_max</th>\n",
       "      <th>Hum_min</th>\n",
       "      <th>Hum_max</th>\n",
       "      <th>Time</th>\n",
       "    </tr>\n",
       "  </thead>\n",
       "  <tbody>\n",
       "    <tr>\n",
       "      <th>0</th>\n",
       "      <td>2010</td>\n",
       "      <td>January</td>\n",
       "      <td>233.6</td>\n",
       "      <td>22.1</td>\n",
       "      <td>32.1</td>\n",
       "      <td>NaN</td>\n",
       "      <td>NaN</td>\n",
       "      <td>2010-January</td>\n",
       "    </tr>\n",
       "    <tr>\n",
       "      <th>1</th>\n",
       "      <td>2010</td>\n",
       "      <td>February</td>\n",
       "      <td>111.9</td>\n",
       "      <td>22.6</td>\n",
       "      <td>33.9</td>\n",
       "      <td>NaN</td>\n",
       "      <td>NaN</td>\n",
       "      <td>2010-February</td>\n",
       "    </tr>\n",
       "    <tr>\n",
       "      <th>2</th>\n",
       "      <td>2010</td>\n",
       "      <td>March</td>\n",
       "      <td>157.5</td>\n",
       "      <td>23.1</td>\n",
       "      <td>35.2</td>\n",
       "      <td>NaN</td>\n",
       "      <td>NaN</td>\n",
       "      <td>2010-March</td>\n",
       "    </tr>\n",
       "    <tr>\n",
       "      <th>3</th>\n",
       "      <td>2010</td>\n",
       "      <td>April</td>\n",
       "      <td>438.3</td>\n",
       "      <td>23.7</td>\n",
       "      <td>33.5</td>\n",
       "      <td>NaN</td>\n",
       "      <td>NaN</td>\n",
       "      <td>2010-April</td>\n",
       "    </tr>\n",
       "    <tr>\n",
       "      <th>4</th>\n",
       "      <td>2010</td>\n",
       "      <td>May</td>\n",
       "      <td>658.5</td>\n",
       "      <td>24.0</td>\n",
       "      <td>31.8</td>\n",
       "      <td>NaN</td>\n",
       "      <td>NaN</td>\n",
       "      <td>2010-May</td>\n",
       "    </tr>\n",
       "  </tbody>\n",
       "</table>\n",
       "</div>"
      ],
      "text/plain": [
       "   Year     Month  Rainfall  Temp_min  Temp_max  Hum_min  Hum_max  \\\n",
       "0  2010   January     233.6      22.1      32.1      NaN      NaN   \n",
       "1  2010  February     111.9      22.6      33.9      NaN      NaN   \n",
       "2  2010     March     157.5      23.1      35.2      NaN      NaN   \n",
       "3  2010     April     438.3      23.7      33.5      NaN      NaN   \n",
       "4  2010       May     658.5      24.0      31.8      NaN      NaN   \n",
       "\n",
       "            Time  \n",
       "0   2010-January  \n",
       "1  2010-February  \n",
       "2     2010-March  \n",
       "3     2010-April  \n",
       "4       2010-May  "
      ]
     },
     "execution_count": 52,
     "metadata": {},
     "output_type": "execute_result"
    }
   ],
   "source": [
    "df.head()\n",
    "\n",
    "\n",
    "\n",
    "\n"
   ]
  },
  {
   "cell_type": "code",
   "execution_count": 33,
   "metadata": {},
   "outputs": [
    {
     "data": {
      "text/html": [
       "<div>\n",
       "<style scoped>\n",
       "    .dataframe tbody tr th:only-of-type {\n",
       "        vertical-align: middle;\n",
       "    }\n",
       "\n",
       "    .dataframe tbody tr th {\n",
       "        vertical-align: top;\n",
       "    }\n",
       "\n",
       "    .dataframe thead th {\n",
       "        text-align: right;\n",
       "    }\n",
       "</style>\n",
       "<table border=\"1\" class=\"dataframe\">\n",
       "  <thead>\n",
       "    <tr style=\"text-align: right;\">\n",
       "      <th></th>\n",
       "      <th>Time</th>\n",
       "      <th>Hum_min</th>\n",
       "    </tr>\n",
       "  </thead>\n",
       "  <tbody>\n",
       "    <tr>\n",
       "      <th>0</th>\n",
       "      <td>2010-January</td>\n",
       "      <td>NaN</td>\n",
       "    </tr>\n",
       "    <tr>\n",
       "      <th>1</th>\n",
       "      <td>2010-February</td>\n",
       "      <td>NaN</td>\n",
       "    </tr>\n",
       "    <tr>\n",
       "      <th>2</th>\n",
       "      <td>2010-March</td>\n",
       "      <td>NaN</td>\n",
       "    </tr>\n",
       "    <tr>\n",
       "      <th>3</th>\n",
       "      <td>2010-April</td>\n",
       "      <td>NaN</td>\n",
       "    </tr>\n",
       "    <tr>\n",
       "      <th>4</th>\n",
       "      <td>2010-May</td>\n",
       "      <td>NaN</td>\n",
       "    </tr>\n",
       "  </tbody>\n",
       "</table>\n",
       "</div>"
      ],
      "text/plain": [
       "            Time  Hum_min\n",
       "0   2010-January      NaN\n",
       "1  2010-February      NaN\n",
       "2     2010-March      NaN\n",
       "3     2010-April      NaN\n",
       "4       2010-May      NaN"
      ]
     },
     "execution_count": 33,
     "metadata": {},
     "output_type": "execute_result"
    }
   ],
   "source": [
    "hum_min=df[[\"Time\",\"Hum_min\"]]\n",
    "hum_min.head()\n",
    "\n",
    "\n",
    "\n",
    "\n",
    "\n",
    "\n"
   ]
  },
  {
   "cell_type": "code",
   "execution_count": 34,
   "metadata": {},
   "outputs": [
    {
     "name": "stderr",
     "output_type": "stream",
     "text": [
      "C:\\Users\\wasan\\AppData\\Local\\Temp/ipykernel_9556/3648415634.py:1: SettingWithCopyWarning: \n",
      "A value is trying to be set on a copy of a slice from a DataFrame.\n",
      "Try using .loc[row_indexer,col_indexer] = value instead\n",
      "\n",
      "See the caveats in the documentation: https://pandas.pydata.org/pandas-docs/stable/user_guide/indexing.html#returning-a-view-versus-a-copy\n",
      "  hum_min['Time']=pd.to_datetime(hum_min['Time'])\n"
     ]
    }
   ],
   "source": [
    "hum_min['Time']=pd.to_datetime(hum_min['Time'])\n"
   ]
  },
  {
   "cell_type": "code",
   "execution_count": 35,
   "metadata": {},
   "outputs": [
    {
     "data": {
      "text/html": [
       "<div>\n",
       "<style scoped>\n",
       "    .dataframe tbody tr th:only-of-type {\n",
       "        vertical-align: middle;\n",
       "    }\n",
       "\n",
       "    .dataframe tbody tr th {\n",
       "        vertical-align: top;\n",
       "    }\n",
       "\n",
       "    .dataframe thead th {\n",
       "        text-align: right;\n",
       "    }\n",
       "</style>\n",
       "<table border=\"1\" class=\"dataframe\">\n",
       "  <thead>\n",
       "    <tr style=\"text-align: right;\">\n",
       "      <th></th>\n",
       "      <th>Time</th>\n",
       "      <th>Hum_min</th>\n",
       "    </tr>\n",
       "  </thead>\n",
       "  <tbody>\n",
       "    <tr>\n",
       "      <th>0</th>\n",
       "      <td>2010-01-01</td>\n",
       "      <td>NaN</td>\n",
       "    </tr>\n",
       "    <tr>\n",
       "      <th>1</th>\n",
       "      <td>2010-02-01</td>\n",
       "      <td>NaN</td>\n",
       "    </tr>\n",
       "    <tr>\n",
       "      <th>2</th>\n",
       "      <td>2010-03-01</td>\n",
       "      <td>NaN</td>\n",
       "    </tr>\n",
       "    <tr>\n",
       "      <th>3</th>\n",
       "      <td>2010-04-01</td>\n",
       "      <td>NaN</td>\n",
       "    </tr>\n",
       "    <tr>\n",
       "      <th>4</th>\n",
       "      <td>2010-05-01</td>\n",
       "      <td>NaN</td>\n",
       "    </tr>\n",
       "  </tbody>\n",
       "</table>\n",
       "</div>"
      ],
      "text/plain": [
       "        Time  Hum_min\n",
       "0 2010-01-01      NaN\n",
       "1 2010-02-01      NaN\n",
       "2 2010-03-01      NaN\n",
       "3 2010-04-01      NaN\n",
       "4 2010-05-01      NaN"
      ]
     },
     "execution_count": 35,
     "metadata": {},
     "output_type": "execute_result"
    }
   ],
   "source": [
    "hum_min.head()\n"
   ]
  },
  {
   "cell_type": "code",
   "execution_count": 53,
   "metadata": {
    "scrolled": true
   },
   "outputs": [
    {
     "data": {
      "text/plain": [
       "Time        0\n",
       "Hum_min    14\n",
       "dtype: int64"
      ]
     },
     "execution_count": 53,
     "metadata": {},
     "output_type": "execute_result"
    }
   ],
   "source": [
    "#Checking for missing values\n",
    "hum_min.isna().sum()\n",
    "\n",
    "\n",
    "\n",
    "\n"
   ]
  },
  {
   "cell_type": "code",
   "execution_count": 37,
   "metadata": {},
   "outputs": [
    {
     "data": {
      "text/html": [
       "<div>\n",
       "<style scoped>\n",
       "    .dataframe tbody tr th:only-of-type {\n",
       "        vertical-align: middle;\n",
       "    }\n",
       "\n",
       "    .dataframe tbody tr th {\n",
       "        vertical-align: top;\n",
       "    }\n",
       "\n",
       "    .dataframe thead th {\n",
       "        text-align: right;\n",
       "    }\n",
       "</style>\n",
       "<table border=\"1\" class=\"dataframe\">\n",
       "  <thead>\n",
       "    <tr style=\"text-align: right;\">\n",
       "      <th></th>\n",
       "      <th>Time</th>\n",
       "      <th>Hum_min</th>\n",
       "    </tr>\n",
       "  </thead>\n",
       "  <tbody>\n",
       "    <tr>\n",
       "      <th>12</th>\n",
       "      <td>2011-01-01</td>\n",
       "      <td>79.0</td>\n",
       "    </tr>\n",
       "    <tr>\n",
       "      <th>13</th>\n",
       "      <td>2011-02-01</td>\n",
       "      <td>77.0</td>\n",
       "    </tr>\n",
       "    <tr>\n",
       "      <th>14</th>\n",
       "      <td>2011-03-01</td>\n",
       "      <td>75.0</td>\n",
       "    </tr>\n",
       "    <tr>\n",
       "      <th>15</th>\n",
       "      <td>2011-04-01</td>\n",
       "      <td>80.0</td>\n",
       "    </tr>\n",
       "    <tr>\n",
       "      <th>16</th>\n",
       "      <td>2011-05-01</td>\n",
       "      <td>79.0</td>\n",
       "    </tr>\n",
       "  </tbody>\n",
       "</table>\n",
       "</div>"
      ],
      "text/plain": [
       "         Time  Hum_min\n",
       "12 2011-01-01     79.0\n",
       "13 2011-02-01     77.0\n",
       "14 2011-03-01     75.0\n",
       "15 2011-04-01     80.0\n",
       "16 2011-05-01     79.0"
      ]
     },
     "execution_count": 37,
     "metadata": {},
     "output_type": "execute_result"
    }
   ],
   "source": [
    "#removing missing values\n",
    "hum=hum_min.dropna(how=\"any\")\n",
    "hum.head()\n",
    "\n",
    "\n",
    "\n",
    "\n"
   ]
  },
  {
   "cell_type": "code",
   "execution_count": 38,
   "metadata": {},
   "outputs": [
    {
     "data": {
      "text/html": [
       "<div>\n",
       "<style scoped>\n",
       "    .dataframe tbody tr th:only-of-type {\n",
       "        vertical-align: middle;\n",
       "    }\n",
       "\n",
       "    .dataframe tbody tr th {\n",
       "        vertical-align: top;\n",
       "    }\n",
       "\n",
       "    .dataframe thead th {\n",
       "        text-align: right;\n",
       "    }\n",
       "</style>\n",
       "<table border=\"1\" class=\"dataframe\">\n",
       "  <thead>\n",
       "    <tr style=\"text-align: right;\">\n",
       "      <th></th>\n",
       "      <th>Time</th>\n",
       "      <th>Humidity</th>\n",
       "    </tr>\n",
       "  </thead>\n",
       "  <tbody>\n",
       "    <tr>\n",
       "      <th>12</th>\n",
       "      <td>2011-01-01</td>\n",
       "      <td>79.0</td>\n",
       "    </tr>\n",
       "    <tr>\n",
       "      <th>13</th>\n",
       "      <td>2011-02-01</td>\n",
       "      <td>77.0</td>\n",
       "    </tr>\n",
       "    <tr>\n",
       "      <th>14</th>\n",
       "      <td>2011-03-01</td>\n",
       "      <td>75.0</td>\n",
       "    </tr>\n",
       "    <tr>\n",
       "      <th>15</th>\n",
       "      <td>2011-04-01</td>\n",
       "      <td>80.0</td>\n",
       "    </tr>\n",
       "    <tr>\n",
       "      <th>16</th>\n",
       "      <td>2011-05-01</td>\n",
       "      <td>79.0</td>\n",
       "    </tr>\n",
       "  </tbody>\n",
       "</table>\n",
       "</div>"
      ],
      "text/plain": [
       "         Time  Humidity\n",
       "12 2011-01-01      79.0\n",
       "13 2011-02-01      77.0\n",
       "14 2011-03-01      75.0\n",
       "15 2011-04-01      80.0\n",
       "16 2011-05-01      79.0"
      ]
     },
     "execution_count": 38,
     "metadata": {},
     "output_type": "execute_result"
    }
   ],
   "source": [
    "hum = hum.rename(columns = {'Hum_min': 'Humidity'})\n",
    "hum.head()\n",
    "\n",
    "\n",
    "\n",
    "\n",
    "\n",
    "\n"
   ]
  },
  {
   "cell_type": "code",
   "execution_count": 39,
   "metadata": {},
   "outputs": [
    {
     "data": {
      "text/plain": [
       "Index(['Time', 'Humidity'], dtype='object')"
      ]
     },
     "execution_count": 39,
     "metadata": {},
     "output_type": "execute_result"
    }
   ],
   "source": [
    "hum.columns\n",
    "\n",
    "\n",
    "\n",
    "\n"
   ]
  },
  {
   "cell_type": "code",
   "execution_count": 40,
   "metadata": {},
   "outputs": [],
   "source": [
    "#Setting the time index\n",
    "hum.set_index('Time',inplace=True)\n",
    "\n",
    "\n",
    "\n",
    "\n"
   ]
  },
  {
   "cell_type": "code",
   "execution_count": 41,
   "metadata": {},
   "outputs": [
    {
     "data": {
      "text/plain": [
       "<AxesSubplot:xlabel='Time'>"
      ]
     },
     "execution_count": 41,
     "metadata": {},
     "output_type": "execute_result"
    },
    {
     "data": {
      "image/png": "[encoded data removed]",
      "text/plain": [
       "<Figure size 864x576 with 1 Axes>"
      ]
     },
     "metadata": {
      "needs_background": "light"
     },
     "output_type": "display_data"
    }
   ],
   "source": [
    "hum.plot(figsize=(12,8))\n",
    "\n",
    "\n",
    "\n"
   ]
  },
  {
   "cell_type": "markdown",
   "metadata": {},
   "source": [
    "No trend. But some evidence for seasonality"
   ]
  },
  {
   "cell_type": "markdown",
   "metadata": {},
   "source": [
    "# Testing For Stationarity"
   ]
  },
  {
   "cell_type": "code",
   "execution_count": 42,
   "metadata": {},
   "outputs": [
    {
     "name": "stdout",
     "output_type": "stream",
     "text": [
      "ADF Test Statistic : -3.3178444642237164\n",
      "p-value : 0.014099426962132306\n",
      "#Lags Used : 10\n",
      "Number of Observations Used : 119\n",
      "strong evidence against the null hypothesis(Ho), reject the null hypothesis. Data has no unit root and is stationary\n"
     ]
    }
   ],
   "source": [
    "### ADF Test\n",
    "test_result=adfuller(hum['Humidity'])\n",
    "#Ho: The series is non stationary\n",
    "#H1: The series is stationary\n",
    "\n",
    "def adfuller_test(x):\n",
    "    result=adfuller(x)\n",
    "    labels = ['ADF Test Statistic','p-value','#Lags Used','Number of Observations Used']\n",
    "    for value,label in zip(result,labels):\n",
    "        print(label+' : '+str(value) )\n",
    "    if result[1] <= 0.05:\n",
    "        print(\"strong evidence against the null hypothesis(Ho), reject the null hypothesis. Data has no unit root and is stationary\")\n",
    "    else:\n",
    "        print(\"weak evidence against null hypothesis, time series has a unit root, indicating it is non-stationary \")\n",
    "    \n",
    "adfuller_test(hum['Humidity'])\n",
    "\n",
    "\n",
    "\n"
   ]
  },
  {
   "cell_type": "code",
   "execution_count": 43,
   "metadata": {},
   "outputs": [
    {
     "name": "stdout",
     "output_type": "stream",
     "text": [
      "KPSS Statistic: 0.07947000212509893\n",
      "p-value: 0.1\n",
      "num lags: 13\n",
      "Critial Values:\n",
      "   10% : 0.347\n",
      "   5% : 0.463\n",
      "   2.5% : 0.574\n",
      "   1% : 0.739\n",
      "Result: The series is stationary\n"
     ]
    },
    {
     "name": "stderr",
     "output_type": "stream",
     "text": [
      "C:\\Users\\wasan\\anaconda3\\lib\\site-packages\\statsmodels\\tsa\\stattools.py:1875: FutureWarning: The behavior of using nlags=None will change in release 0.13.Currently nlags=None is the same as nlags=\"legacy\", and so a sample-size lag length is used. After the next release, the default will change to be the same as nlags=\"auto\" which uses an automatic lag length selection method. To silence this warning, either use \"auto\" or \"legacy\"\n",
      "  warnings.warn(msg, FutureWarning)\n",
      "C:\\Users\\wasan\\anaconda3\\lib\\site-packages\\statsmodels\\tsa\\stattools.py:1910: InterpolationWarning: The test statistic is outside of the range of p-values available in the\n",
      "look-up table. The actual p-value is greater than the p-value returned.\n",
      "\n",
      "  warnings.warn(\n"
     ]
    }
   ],
   "source": [
    "# KPSS test\n",
    "from statsmodels.tsa.stattools import kpss\n",
    "def kpss_test(series, **kw):    \n",
    "    statistic, p_value, n_lags, critical_values = kpss(series, **kw)\n",
    "    # Format Output\n",
    "    print(f'KPSS Statistic: {statistic}')\n",
    "    print(f'p-value: {p_value}')\n",
    "    print(f'num lags: {n_lags}')\n",
    "    print('Critial Values:')\n",
    "    for key, value in critical_values.items():\n",
    "        print(f'   {key} : {value}')\n",
    "    print(f'Result: The series is {\"not \" if p_value < 0.05 else \"\"}stationary')\n",
    "\n",
    "kpss_test(hum['Humidity'])\n"
   ]
  },
  {
   "cell_type": "code",
   "execution_count": 44,
   "metadata": {},
   "outputs": [
    {
     "name": "stdout",
     "output_type": "stream",
     "text": [
      "     Phillips-Perron Test (Z-tau)    \n",
      "=====================================\n",
      "Test Statistic                 -5.723\n",
      "P-value                         0.000\n",
      "Lags                               13\n",
      "-------------------------------------\n",
      "\n",
      "Trend: Constant\n",
      "Critical Values: -3.48 (1%), -2.88 (5%), -2.58 (10%)\n",
      "Null Hypothesis: The process contains a unit root.\n",
      "Alternative Hypothesis: The process is weakly stationary.\n"
     ]
    }
   ],
   "source": [
    "#PhillipsPerron Test\n",
    "from arch.unitroot import PhillipsPerron\n",
    "\n",
    "pp = PhillipsPerron(hum['Humidity'].astype(float))\n",
    "print(pp.summary().as_text())\n",
    "\n",
    "\n",
    "\n"
   ]
  },
  {
   "cell_type": "markdown",
   "metadata": {},
   "source": [
    "Therefore the series is stationary"
   ]
  },
  {
   "cell_type": "markdown",
   "metadata": {},
   "source": [
    "# ACF and PACF plots"
   ]
  },
  {
   "cell_type": "code",
   "execution_count": 45,
   "metadata": {},
   "outputs": [
    {
     "data": {
      "image/png": "[encoded data removed]",
      "text/plain": [
       "<Figure size 864x576 with 2 Axes>"
      ]
     },
     "metadata": {
      "needs_background": "light"
     },
     "output_type": "display_data"
    }
   ],
   "source": [
    "fig = plt.figure(figsize=(12,8))\n",
    "ax1 = fig.add_subplot(211)\n",
    "fig = sm.graphics.tsa.plot_acf(hum['Humidity'],lags=40,ax=ax1)\n",
    "ax2 = fig.add_subplot(212)\n",
    "fig = sm.graphics.tsa.plot_pacf(hum['Humidity'],lags=40,ax=ax2)\n"
   ]
  },
  {
   "cell_type": "markdown",
   "metadata": {},
   "source": [
    "According to the PACF and ACF plots it's better to start with p=3, d=0, q=5"
   ]
  },
  {
   "cell_type": "code",
   "execution_count": 46,
   "metadata": {},
   "outputs": [
    {
     "name": "stdout",
     "output_type": "stream",
     "text": [
      "Performing stepwise search to minimize aic\n",
      " ARIMA(0,0,0)(0,0,0)[12] intercept   : AIC=786.552, Time=0.04 sec\n",
      " ARIMA(1,0,0)(1,0,0)[12] intercept   : AIC=inf, Time=0.66 sec\n",
      " ARIMA(0,0,1)(0,0,1)[12] intercept   : AIC=752.561, Time=0.13 sec\n",
      " ARIMA(0,0,0)(0,0,0)[12]             : AIC=1501.744, Time=0.02 sec\n",
      " ARIMA(0,0,1)(0,0,0)[12] intercept   : AIC=760.016, Time=0.05 sec\n",
      " ARIMA(0,0,1)(1,0,1)[12] intercept   : AIC=758.947, Time=0.66 sec\n",
      " ARIMA(0,0,1)(0,0,2)[12] intercept   : AIC=741.788, Time=0.30 sec\n",
      " ARIMA(0,0,1)(1,0,2)[12] intercept   : AIC=722.027, Time=1.11 sec\n",
      " ARIMA(0,0,1)(2,0,2)[12] intercept   : AIC=inf, Time=1.21 sec\n",
      " ARIMA(0,0,1)(1,0,3)[12] intercept   : AIC=725.782, Time=2.54 sec\n",
      " ARIMA(0,0,1)(0,0,3)[12] intercept   : AIC=727.821, Time=1.03 sec\n",
      " ARIMA(0,0,1)(2,0,1)[12] intercept   : AIC=inf, Time=1.49 sec\n",
      " ARIMA(0,0,1)(2,0,3)[12] intercept   : AIC=inf, Time=2.55 sec\n",
      " ARIMA(0,0,0)(1,0,2)[12] intercept   : AIC=734.555, Time=0.92 sec\n",
      " ARIMA(1,0,1)(1,0,2)[12] intercept   : AIC=729.586, Time=1.09 sec\n",
      " ARIMA(0,0,2)(1,0,2)[12] intercept   : AIC=729.032, Time=1.00 sec\n",
      " ARIMA(1,0,0)(1,0,2)[12] intercept   : AIC=720.162, Time=0.88 sec\n",
      " ARIMA(1,0,0)(0,0,2)[12] intercept   : AIC=736.326, Time=0.60 sec\n",
      " ARIMA(1,0,0)(1,0,1)[12] intercept   : AIC=inf, Time=0.66 sec\n",
      " ARIMA(1,0,0)(2,0,2)[12] intercept   : AIC=734.465, Time=1.14 sec\n",
      " ARIMA(1,0,0)(1,0,3)[12] intercept   : AIC=721.281, Time=2.18 sec\n",
      " ARIMA(1,0,0)(0,0,1)[12] intercept   : AIC=746.765, Time=0.39 sec\n",
      " ARIMA(1,0,0)(0,0,3)[12] intercept   : AIC=724.017, Time=1.09 sec\n",
      " ARIMA(1,0,0)(2,0,1)[12] intercept   : AIC=inf, Time=1.32 sec\n",
      " ARIMA(1,0,0)(2,0,3)[12] intercept   : AIC=723.915, Time=2.67 sec\n",
      " ARIMA(2,0,0)(1,0,2)[12] intercept   : AIC=736.337, Time=1.07 sec\n",
      " ARIMA(2,0,1)(1,0,2)[12] intercept   : AIC=730.063, Time=1.27 sec\n",
      " ARIMA(1,0,0)(1,0,2)[12]             : AIC=inf, Time=0.87 sec\n",
      "\n",
      "Best model:  ARIMA(1,0,0)(1,0,2)[12] intercept\n",
      "Total fit time: 28.990 seconds\n"
     ]
    }
   ],
   "source": [
    "arima_model=auto_arima(hum['Humidity'].astype(float),start_p=0,start_d=0,start_q=0,max_p=3,max_D=1,max_q=5,start_P=0,start_D=0,start_Q=0,max_P=3,max_Q=5,m=12,seasonal=True,error_action='warn',trace=True,supress_warnings=True,stepwise=True,random_state=20,n_fits=50)\n"
   ]
  },
  {
   "cell_type": "markdown",
   "metadata": {},
   "source": [
    "# Forecast Humidity using the model"
   ]
  },
  {
   "cell_type": "code",
   "execution_count": 47,
   "metadata": {},
   "outputs": [
    {
     "name": "stderr",
     "output_type": "stream",
     "text": [
      "C:\\Users\\wasan\\anaconda3\\lib\\site-packages\\statsmodels\\tsa\\base\\tsa_model.py:581: ValueWarning: A date index has been provided, but it has no associated frequency information and so will be ignored when e.g. forecasting.\n",
      "  warnings.warn('A date index has been provided, but it has no'\n",
      "C:\\Users\\wasan\\anaconda3\\lib\\site-packages\\statsmodels\\tsa\\base\\tsa_model.py:581: ValueWarning: A date index has been provided, but it has no associated frequency information and so will be ignored when e.g. forecasting.\n",
      "  warnings.warn('A date index has been provided, but it has no'\n",
      "C:\\Users\\wasan\\anaconda3\\lib\\site-packages\\statsmodels\\tsa\\statespace\\sarimax.py:997: UserWarning: Non-stationary starting seasonal autoregressive Using zeros as starting parameters.\n",
      "  warn('Non-stationary starting seasonal autoregressive'\n"
     ]
    },
    {
     "data": {
      "text/html": [
       "<table class=\"simpletable\">\n",
       "<caption>SARIMAX Results</caption>\n",
       "<tr>\n",
       "  <th>Dep. Variable:</th>              <td>Humidity</td>            <th>  No. Observations:  </th>    <td>130</td>  \n",
       "</tr>\n",
       "<tr>\n",
       "  <th>Model:</th>           <td>SARIMAX(1, 0, 2)x(3, 0, 2, 12)</td> <th>  Log Likelihood     </th> <td>-357.929</td>\n",
       "</tr>\n",
       "<tr>\n",
       "  <th>Date:</th>                   <td>Wed, 06 Apr 2022</td>        <th>  AIC                </th>  <td>733.859</td>\n",
       "</tr>\n",
       "<tr>\n",
       "  <th>Time:</th>                       <td>11:15:52</td>            <th>  BIC                </th>  <td>759.667</td>\n",
       "</tr>\n",
       "<tr>\n",
       "  <th>Sample:</th>                         <td>0</td>               <th>  HQIC               </th>  <td>744.346</td>\n",
       "</tr>\n",
       "<tr>\n",
       "  <th></th>                             <td> - 130</td>             <th>                     </th>     <td> </td>   \n",
       "</tr>\n",
       "<tr>\n",
       "  <th>Covariance Type:</th>               <td>opg</td>              <th>                     </th>     <td> </td>   \n",
       "</tr>\n",
       "</table>\n",
       "<table class=\"simpletable\">\n",
       "<tr>\n",
       "      <td></td>        <th>coef</th>     <th>std err</th>      <th>z</th>      <th>P>|z|</th>  <th>[0.025</th>    <th>0.975]</th>  \n",
       "</tr>\n",
       "<tr>\n",
       "  <th>ar.L1</th>    <td>    0.9990</td> <td>    0.008</td> <td>  131.552</td> <td> 0.000</td> <td>    0.984</td> <td>    1.014</td>\n",
       "</tr>\n",
       "<tr>\n",
       "  <th>ma.L1</th>    <td>   -0.7290</td> <td>    0.112</td> <td>   -6.482</td> <td> 0.000</td> <td>   -0.949</td> <td>   -0.509</td>\n",
       "</tr>\n",
       "<tr>\n",
       "  <th>ma.L2</th>    <td>   -0.2178</td> <td>    0.107</td> <td>   -2.033</td> <td> 0.042</td> <td>   -0.428</td> <td>   -0.008</td>\n",
       "</tr>\n",
       "<tr>\n",
       "  <th>ar.S.L12</th> <td>   -0.0455</td> <td>    0.266</td> <td>   -0.171</td> <td> 0.864</td> <td>   -0.568</td> <td>    0.477</td>\n",
       "</tr>\n",
       "<tr>\n",
       "  <th>ar.S.L24</th> <td>    0.9419</td> <td>    0.238</td> <td>    3.957</td> <td> 0.000</td> <td>    0.475</td> <td>    1.409</td>\n",
       "</tr>\n",
       "<tr>\n",
       "  <th>ar.S.L36</th> <td>    0.1018</td> <td>    0.122</td> <td>    0.832</td> <td> 0.405</td> <td>   -0.138</td> <td>    0.341</td>\n",
       "</tr>\n",
       "<tr>\n",
       "  <th>ma.S.L12</th> <td>   -0.0519</td> <td>    0.218</td> <td>   -0.239</td> <td> 0.811</td> <td>   -0.478</td> <td>    0.374</td>\n",
       "</tr>\n",
       "<tr>\n",
       "  <th>ma.S.L24</th> <td>   -0.8538</td> <td>    0.600</td> <td>   -1.422</td> <td> 0.155</td> <td>   -2.031</td> <td>    0.323</td>\n",
       "</tr>\n",
       "<tr>\n",
       "  <th>sigma2</th>   <td>   11.2251</td> <td>    3.286</td> <td>    3.417</td> <td> 0.001</td> <td>    4.786</td> <td>   17.665</td>\n",
       "</tr>\n",
       "</table>\n",
       "<table class=\"simpletable\">\n",
       "<tr>\n",
       "  <th>Ljung-Box (L1) (Q):</th>     <td>0.17</td> <th>  Jarque-Bera (JB):  </th> <td>2.64</td> \n",
       "</tr>\n",
       "<tr>\n",
       "  <th>Prob(Q):</th>                <td>0.68</td> <th>  Prob(JB):          </th> <td>0.27</td> \n",
       "</tr>\n",
       "<tr>\n",
       "  <th>Heteroskedasticity (H):</th> <td>1.26</td> <th>  Skew:              </th> <td>-0.33</td>\n",
       "</tr>\n",
       "<tr>\n",
       "  <th>Prob(H) (two-sided):</th>    <td>0.45</td> <th>  Kurtosis:          </th> <td>2.79</td> \n",
       "</tr>\n",
       "</table><br/><br/>Warnings:<br/>[1] Covariance matrix calculated using the outer product of gradients (complex-step)."
      ],
      "text/plain": [
       "<class 'statsmodels.iolib.summary.Summary'>\n",
       "\"\"\"\n",
       "                                     SARIMAX Results                                      \n",
       "==========================================================================================\n",
       "Dep. Variable:                           Humidity   No. Observations:                  130\n",
       "Model:             SARIMAX(1, 0, 2)x(3, 0, 2, 12)   Log Likelihood                -357.929\n",
       "Date:                            Wed, 06 Apr 2022   AIC                            733.859\n",
       "Time:                                    11:15:52   BIC                            759.667\n",
       "Sample:                                         0   HQIC                           744.346\n",
       "                                            - 130                                         \n",
       "Covariance Type:                              opg                                         \n",
       "==============================================================================\n",
       "                 coef    std err          z      P>|z|      [0.025      0.975]\n",
       "------------------------------------------------------------------------------\n",
       "ar.L1          0.9990      0.008    131.552      0.000       0.984       1.014\n",
       "ma.L1         -0.7290      0.112     -6.482      0.000      -0.949      -0.509\n",
       "ma.L2         -0.2178      0.107     -2.033      0.042      -0.428      -0.008\n",
       "ar.S.L12      -0.0455      0.266     -0.171      0.864      -0.568       0.477\n",
       "ar.S.L24       0.9419      0.238      3.957      0.000       0.475       1.409\n",
       "ar.S.L36       0.1018      0.122      0.832      0.405      -0.138       0.341\n",
       "ma.S.L12      -0.0519      0.218     -0.239      0.811      -0.478       0.374\n",
       "ma.S.L24      -0.8538      0.600     -1.422      0.155      -2.031       0.323\n",
       "sigma2        11.2251      3.286      3.417      0.001       4.786      17.665\n",
       "===================================================================================\n",
       "Ljung-Box (L1) (Q):                   0.17   Jarque-Bera (JB):                 2.64\n",
       "Prob(Q):                              0.68   Prob(JB):                         0.27\n",
       "Heteroskedasticity (H):               1.26   Skew:                            -0.33\n",
       "Prob(H) (two-sided):                  0.45   Kurtosis:                         2.79\n",
       "===================================================================================\n",
       "\n",
       "Warnings:\n",
       "[1] Covariance matrix calculated using the outer product of gradients (complex-step).\n",
       "\"\"\""
      ]
     },
     "execution_count": 47,
     "metadata": {},
     "output_type": "execute_result"
    }
   ],
   "source": [
    "model=sm.tsa.statespace.SARIMAX(hum[\"Humidity\"].astype('float'),order=(1, 0, 2),seasonal_order=(3,0,2,12))\n",
    "results=model.fit()\n",
    "results.summary()\n"
   ]
  },
  {
   "cell_type": "code",
   "execution_count": 48,
   "metadata": {},
   "outputs": [
    {
     "data": {
      "text/plain": [
       "<AxesSubplot:xlabel='Time'>"
      ]
     },
     "execution_count": 48,
     "metadata": {},
     "output_type": "execute_result"
    },
    {
     "data": {
      "image/png": "[encoded data removed]",
      "text/plain": [
       "<Figure size 864x576 with 1 Axes>"
      ]
     },
     "metadata": {
      "needs_background": "light"
     },
     "output_type": "display_data"
    }
   ],
   "source": [
    "hum['forecast']=results.predict(start=90,end=129,dynamic=True)\n",
    "hum[['Humidity','forecast']].plot(figsize=(12,8))\n"
   ]
  },
  {
   "cell_type": "code",
   "execution_count": 28,
   "metadata": {},
   "outputs": [
    {
     "data": {
      "text/html": [
       "<div>\n",
       "<style scoped>\n",
       "    .dataframe tbody tr th:only-of-type {\n",
       "        vertical-align: middle;\n",
       "    }\n",
       "\n",
       "    .dataframe tbody tr th {\n",
       "        vertical-align: top;\n",
       "    }\n",
       "\n",
       "    .dataframe thead th {\n",
       "        text-align: right;\n",
       "    }\n",
       "</style>\n",
       "<table border=\"1\" class=\"dataframe\">\n",
       "  <thead>\n",
       "    <tr style=\"text-align: right;\">\n",
       "      <th></th>\n",
       "      <th>Humidity</th>\n",
       "      <th>forecast</th>\n",
       "    </tr>\n",
       "    <tr>\n",
       "      <th>Time</th>\n",
       "      <th></th>\n",
       "      <th></th>\n",
       "    </tr>\n",
       "  </thead>\n",
       "  <tbody>\n",
       "    <tr>\n",
       "      <th>2021-08-01</th>\n",
       "      <td>80.0</td>\n",
       "      <td>77.913806</td>\n",
       "    </tr>\n",
       "    <tr>\n",
       "      <th>2021-09-01</th>\n",
       "      <td>82.0</td>\n",
       "      <td>78.665216</td>\n",
       "    </tr>\n",
       "    <tr>\n",
       "      <th>2021-10-01</th>\n",
       "      <td>82.0</td>\n",
       "      <td>80.239164</td>\n",
       "    </tr>\n",
       "    <tr>\n",
       "      <th>2021-11-01</th>\n",
       "      <td>85.0</td>\n",
       "      <td>80.782157</td>\n",
       "    </tr>\n",
       "    <tr>\n",
       "      <th>2021-12-01</th>\n",
       "      <td>75.0</td>\n",
       "      <td>80.552192</td>\n",
       "    </tr>\n",
       "  </tbody>\n",
       "</table>\n",
       "</div>"
      ],
      "text/plain": [
       "            Humidity   forecast\n",
       "Time                           \n",
       "2021-08-01      80.0  77.913806\n",
       "2021-09-01      82.0  78.665216\n",
       "2021-10-01      82.0  80.239164\n",
       "2021-11-01      85.0  80.782157\n",
       "2021-12-01      75.0  80.552192"
      ]
     },
     "execution_count": 28,
     "metadata": {},
     "output_type": "execute_result"
    }
   ],
   "source": [
    "hum.tail()\n"
   ]
  },
  {
   "cell_type": "code",
   "execution_count": null,
   "metadata": {},
   "outputs": [],
   "source": []
  },
  {
   "cell_type": "code",
   "execution_count": null,
   "metadata": {},
   "outputs": [],
   "source": []
  },
  {
   "cell_type": "code",
   "execution_count": null,
   "metadata": {},
   "outputs": [],
   "source": []
  },
  {
   "cell_type": "code",
   "execution_count": null,
   "metadata": {},
   "outputs": [],
   "source": []
  },
  {
   "cell_type": "code",
   "execution_count": null,
   "metadata": {},
   "outputs": [],
   "source": []
  },
  {
   "cell_type": "code",
   "execution_count": null,
   "metadata": {},
   "outputs": [],
   "source": []
  },
  {
   "cell_type": "code",
   "execution_count": null,
   "metadata": {},
   "outputs": [],
   "source": []
  },
  {
   "cell_type": "code",
   "execution_count": null,
   "metadata": {},
   "outputs": [],
   "source": []
  },
  {
   "cell_type": "code",
   "execution_count": null,
   "metadata": {},
   "outputs": [],
   "source": []
  }
 ],
 "metadata": {
  "kernelspec": {
   "display_name": "Python 3",
   "language": "python",
   "name": "python3"
  },
  "language_info": {
   "codemirror_mode": {
    "name": "ipython",
    "version": 3
   },
   "file_extension": ".py",
   "mimetype": "text/x-python",
   "name": "python",
   "nbconvert_exporter": "python",
   "pygments_lexer": "ipython3",
   "version": "3.8.5"
  }
 },
 "nbformat": 4,
 "nbformat_minor": 4
}
