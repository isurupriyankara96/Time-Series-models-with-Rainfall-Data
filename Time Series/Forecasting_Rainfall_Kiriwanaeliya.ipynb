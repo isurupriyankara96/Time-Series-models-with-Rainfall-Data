{
 "cells": [
  {
   "cell_type": "code",
   "execution_count": 1,
   "metadata": {},
   "outputs": [],
   "source": [
    "import numpy as np\n",
    "import pandas as pd\n",
    "import matplotlib.pyplot as plt\n",
    "%matplotlib inline\n",
    "from statsmodels.tsa.stattools import adfuller \n",
    "from statsmodels.graphics.tsaplots import plot_acf,plot_pacf\n",
    "import statsmodels.api as sm\n",
    "from sklearn.metrics import mean_absolute_error\n",
    "from statsmodels.tsa.arima_model import ARIMA\n",
    "from math import sqrt\n",
    "from pmdarima import auto_arima\n"
   ]
  },
  {
   "cell_type": "code",
   "execution_count": 2,
   "metadata": {
    "scrolled": true
   },
   "outputs": [
    {
     "data": {
      "text/html": [
       "<div>\n",
       "<style scoped>\n",
       "    .dataframe tbody tr th:only-of-type {\n",
       "        vertical-align: middle;\n",
       "    }\n",
       "\n",
       "    .dataframe tbody tr th {\n",
       "        vertical-align: top;\n",
       "    }\n",
       "\n",
       "    .dataframe thead th {\n",
       "        text-align: right;\n",
       "    }\n",
       "</style>\n",
       "<table border=\"1\" class=\"dataframe\">\n",
       "  <thead>\n",
       "    <tr style=\"text-align: right;\">\n",
       "      <th></th>\n",
       "      <th>Year</th>\n",
       "      <th>Month</th>\n",
       "      <th>Rainfall</th>\n",
       "      <th>Temp_min</th>\n",
       "      <th>Temp_max</th>\n",
       "      <th>Hum_min</th>\n",
       "      <th>Hum_max</th>\n",
       "    </tr>\n",
       "  </thead>\n",
       "  <tbody>\n",
       "    <tr>\n",
       "      <th>0</th>\n",
       "      <td>2010</td>\n",
       "      <td>January</td>\n",
       "      <td>104.699999</td>\n",
       "      <td>11.0</td>\n",
       "      <td>20.2</td>\n",
       "      <td>NaN</td>\n",
       "      <td>NaN</td>\n",
       "    </tr>\n",
       "    <tr>\n",
       "      <th>1</th>\n",
       "      <td>2010</td>\n",
       "      <td>February</td>\n",
       "      <td>34.600000</td>\n",
       "      <td>12.0</td>\n",
       "      <td>22.1</td>\n",
       "      <td>NaN</td>\n",
       "      <td>NaN</td>\n",
       "    </tr>\n",
       "    <tr>\n",
       "      <th>2</th>\n",
       "      <td>2010</td>\n",
       "      <td>March</td>\n",
       "      <td>128.300001</td>\n",
       "      <td>11.5</td>\n",
       "      <td>23.0</td>\n",
       "      <td>NaN</td>\n",
       "      <td>NaN</td>\n",
       "    </tr>\n",
       "    <tr>\n",
       "      <th>3</th>\n",
       "      <td>2010</td>\n",
       "      <td>April</td>\n",
       "      <td>153.200000</td>\n",
       "      <td>13.1</td>\n",
       "      <td>22.5</td>\n",
       "      <td>NaN</td>\n",
       "      <td>NaN</td>\n",
       "    </tr>\n",
       "    <tr>\n",
       "      <th>4</th>\n",
       "      <td>2010</td>\n",
       "      <td>May</td>\n",
       "      <td>174.300002</td>\n",
       "      <td>14.1</td>\n",
       "      <td>21.7</td>\n",
       "      <td>NaN</td>\n",
       "      <td>NaN</td>\n",
       "    </tr>\n",
       "  </tbody>\n",
       "</table>\n",
       "</div>"
      ],
      "text/plain": [
       "   Year     Month    Rainfall  Temp_min  Temp_max  Hum_min  Hum_max\n",
       "0  2010   January  104.699999      11.0      20.2      NaN      NaN\n",
       "1  2010  February   34.600000      12.0      22.1      NaN      NaN\n",
       "2  2010     March  128.300001      11.5      23.0      NaN      NaN\n",
       "3  2010     April  153.200000      13.1      22.5      NaN      NaN\n",
       "4  2010       May  174.300002      14.1      21.7      NaN      NaN"
      ]
     },
     "execution_count": 2,
     "metadata": {},
     "output_type": "execute_result"
    }
   ],
   "source": [
    "df=pd.read_csv('Kiriwaneliya_project.csv')\n",
    "df.head()\n"
   ]
  },
  {
   "cell_type": "code",
   "execution_count": 3,
   "metadata": {},
   "outputs": [],
   "source": [
    "df[\"Time\"]=df[\"Year\"].astype(str)+\"-\"+df[\"Month\"].astype(str)\n",
    "\n"
   ]
  },
  {
   "cell_type": "code",
   "execution_count": 4,
   "metadata": {},
   "outputs": [],
   "source": [
    "#Creating time column\n",
    "df['Time'] = pd.to_datetime(df['Time'])\n"
   ]
  },
  {
   "cell_type": "code",
   "execution_count": 5,
   "metadata": {},
   "outputs": [
    {
     "data": {
      "text/html": [
       "<div>\n",
       "<style scoped>\n",
       "    .dataframe tbody tr th:only-of-type {\n",
       "        vertical-align: middle;\n",
       "    }\n",
       "\n",
       "    .dataframe tbody tr th {\n",
       "        vertical-align: top;\n",
       "    }\n",
       "\n",
       "    .dataframe thead th {\n",
       "        text-align: right;\n",
       "    }\n",
       "</style>\n",
       "<table border=\"1\" class=\"dataframe\">\n",
       "  <thead>\n",
       "    <tr style=\"text-align: right;\">\n",
       "      <th></th>\n",
       "      <th>Year</th>\n",
       "      <th>Month</th>\n",
       "      <th>Rainfall</th>\n",
       "      <th>Temp_min</th>\n",
       "      <th>Temp_max</th>\n",
       "      <th>Hum_min</th>\n",
       "      <th>Hum_max</th>\n",
       "      <th>Time</th>\n",
       "    </tr>\n",
       "  </thead>\n",
       "  <tbody>\n",
       "    <tr>\n",
       "      <th>0</th>\n",
       "      <td>2010</td>\n",
       "      <td>January</td>\n",
       "      <td>104.699999</td>\n",
       "      <td>11.0</td>\n",
       "      <td>20.2</td>\n",
       "      <td>NaN</td>\n",
       "      <td>NaN</td>\n",
       "      <td>2010-01-01</td>\n",
       "    </tr>\n",
       "    <tr>\n",
       "      <th>1</th>\n",
       "      <td>2010</td>\n",
       "      <td>February</td>\n",
       "      <td>34.600000</td>\n",
       "      <td>12.0</td>\n",
       "      <td>22.1</td>\n",
       "      <td>NaN</td>\n",
       "      <td>NaN</td>\n",
       "      <td>2010-02-01</td>\n",
       "    </tr>\n",
       "    <tr>\n",
       "      <th>2</th>\n",
       "      <td>2010</td>\n",
       "      <td>March</td>\n",
       "      <td>128.300001</td>\n",
       "      <td>11.5</td>\n",
       "      <td>23.0</td>\n",
       "      <td>NaN</td>\n",
       "      <td>NaN</td>\n",
       "      <td>2010-03-01</td>\n",
       "    </tr>\n",
       "    <tr>\n",
       "      <th>3</th>\n",
       "      <td>2010</td>\n",
       "      <td>April</td>\n",
       "      <td>153.200000</td>\n",
       "      <td>13.1</td>\n",
       "      <td>22.5</td>\n",
       "      <td>NaN</td>\n",
       "      <td>NaN</td>\n",
       "      <td>2010-04-01</td>\n",
       "    </tr>\n",
       "    <tr>\n",
       "      <th>4</th>\n",
       "      <td>2010</td>\n",
       "      <td>May</td>\n",
       "      <td>174.300002</td>\n",
       "      <td>14.1</td>\n",
       "      <td>21.7</td>\n",
       "      <td>NaN</td>\n",
       "      <td>NaN</td>\n",
       "      <td>2010-05-01</td>\n",
       "    </tr>\n",
       "  </tbody>\n",
       "</table>\n",
       "</div>"
      ],
      "text/plain": [
       "   Year     Month    Rainfall  Temp_min  Temp_max  Hum_min  Hum_max       Time\n",
       "0  2010   January  104.699999      11.0      20.2      NaN      NaN 2010-01-01\n",
       "1  2010  February   34.600000      12.0      22.1      NaN      NaN 2010-02-01\n",
       "2  2010     March  128.300001      11.5      23.0      NaN      NaN 2010-03-01\n",
       "3  2010     April  153.200000      13.1      22.5      NaN      NaN 2010-04-01\n",
       "4  2010       May  174.300002      14.1      21.7      NaN      NaN 2010-05-01"
      ]
     },
     "execution_count": 5,
     "metadata": {},
     "output_type": "execute_result"
    }
   ],
   "source": [
    "df.head()"
   ]
  },
  {
   "cell_type": "code",
   "execution_count": 6,
   "metadata": {},
   "outputs": [
    {
     "data": {
      "text/html": [
       "<div>\n",
       "<style scoped>\n",
       "    .dataframe tbody tr th:only-of-type {\n",
       "        vertical-align: middle;\n",
       "    }\n",
       "\n",
       "    .dataframe tbody tr th {\n",
       "        vertical-align: top;\n",
       "    }\n",
       "\n",
       "    .dataframe thead th {\n",
       "        text-align: right;\n",
       "    }\n",
       "</style>\n",
       "<table border=\"1\" class=\"dataframe\">\n",
       "  <thead>\n",
       "    <tr style=\"text-align: right;\">\n",
       "      <th></th>\n",
       "      <th>Time</th>\n",
       "      <th>Rainfall</th>\n",
       "    </tr>\n",
       "  </thead>\n",
       "  <tbody>\n",
       "    <tr>\n",
       "      <th>0</th>\n",
       "      <td>2010-01-01</td>\n",
       "      <td>104.699999</td>\n",
       "    </tr>\n",
       "    <tr>\n",
       "      <th>1</th>\n",
       "      <td>2010-02-01</td>\n",
       "      <td>34.600000</td>\n",
       "    </tr>\n",
       "    <tr>\n",
       "      <th>2</th>\n",
       "      <td>2010-03-01</td>\n",
       "      <td>128.300001</td>\n",
       "    </tr>\n",
       "    <tr>\n",
       "      <th>3</th>\n",
       "      <td>2010-04-01</td>\n",
       "      <td>153.200000</td>\n",
       "    </tr>\n",
       "    <tr>\n",
       "      <th>4</th>\n",
       "      <td>2010-05-01</td>\n",
       "      <td>174.300002</td>\n",
       "    </tr>\n",
       "  </tbody>\n",
       "</table>\n",
       "</div>"
      ],
      "text/plain": [
       "        Time    Rainfall\n",
       "0 2010-01-01  104.699999\n",
       "1 2010-02-01   34.600000\n",
       "2 2010-03-01  128.300001\n",
       "3 2010-04-01  153.200000\n",
       "4 2010-05-01  174.300002"
      ]
     },
     "execution_count": 6,
     "metadata": {},
     "output_type": "execute_result"
    }
   ],
   "source": [
    "rainfall=df[[\"Time\",\"Rainfall\"]]\n",
    "rainfall.head()"
   ]
  },
  {
   "cell_type": "code",
   "execution_count": 7,
   "metadata": {},
   "outputs": [
    {
     "data": {
      "text/plain": [
       "Time        0\n",
       "Rainfall    7\n",
       "dtype: int64"
      ]
     },
     "execution_count": 7,
     "metadata": {},
     "output_type": "execute_result"
    }
   ],
   "source": [
    "#Checking for missing values\n",
    "rainfall.isna().sum()"
   ]
  },
  {
   "cell_type": "code",
   "execution_count": 8,
   "metadata": {},
   "outputs": [],
   "source": [
    "#Setting the time index\n",
    "rainfall.set_index('Time',inplace=True)"
   ]
  },
  {
   "cell_type": "code",
   "execution_count": 9,
   "metadata": {},
   "outputs": [],
   "source": [
    "rainfall=rainfall.resample('MS').first()"
   ]
  },
  {
   "cell_type": "code",
   "execution_count": 14,
   "metadata": {},
   "outputs": [
    {
     "data": {
      "text/html": [
       "<div>\n",
       "<style scoped>\n",
       "    .dataframe tbody tr th:only-of-type {\n",
       "        vertical-align: middle;\n",
       "    }\n",
       "\n",
       "    .dataframe tbody tr th {\n",
       "        vertical-align: top;\n",
       "    }\n",
       "\n",
       "    .dataframe thead th {\n",
       "        text-align: right;\n",
       "    }\n",
       "</style>\n",
       "<table border=\"1\" class=\"dataframe\">\n",
       "  <thead>\n",
       "    <tr style=\"text-align: right;\">\n",
       "      <th></th>\n",
       "      <th>Rainfall</th>\n",
       "    </tr>\n",
       "    <tr>\n",
       "      <th>Time</th>\n",
       "      <th></th>\n",
       "    </tr>\n",
       "  </thead>\n",
       "  <tbody>\n",
       "    <tr>\n",
       "      <th>2010-01-01</th>\n",
       "      <td>104.699999</td>\n",
       "    </tr>\n",
       "    <tr>\n",
       "      <th>2010-02-01</th>\n",
       "      <td>34.600000</td>\n",
       "    </tr>\n",
       "    <tr>\n",
       "      <th>2010-03-01</th>\n",
       "      <td>128.300001</td>\n",
       "    </tr>\n",
       "    <tr>\n",
       "      <th>2010-04-01</th>\n",
       "      <td>153.200000</td>\n",
       "    </tr>\n",
       "    <tr>\n",
       "      <th>2010-05-01</th>\n",
       "      <td>174.300002</td>\n",
       "    </tr>\n",
       "    <tr>\n",
       "      <th>2010-06-01</th>\n",
       "      <td>270.200001</td>\n",
       "    </tr>\n",
       "    <tr>\n",
       "      <th>2010-07-01</th>\n",
       "      <td>170.200000</td>\n",
       "    </tr>\n",
       "    <tr>\n",
       "      <th>2010-08-01</th>\n",
       "      <td>196.300000</td>\n",
       "    </tr>\n",
       "    <tr>\n",
       "      <th>2010-09-01</th>\n",
       "      <td>180.600002</td>\n",
       "    </tr>\n",
       "    <tr>\n",
       "      <th>2010-10-01</th>\n",
       "      <td>247.099999</td>\n",
       "    </tr>\n",
       "    <tr>\n",
       "      <th>2010-11-01</th>\n",
       "      <td>286.199999</td>\n",
       "    </tr>\n",
       "    <tr>\n",
       "      <th>2010-12-01</th>\n",
       "      <td>168.099999</td>\n",
       "    </tr>\n",
       "    <tr>\n",
       "      <th>2011-01-01</th>\n",
       "      <td>168.099999</td>\n",
       "    </tr>\n",
       "    <tr>\n",
       "      <th>2011-02-01</th>\n",
       "      <td>212.499998</td>\n",
       "    </tr>\n",
       "    <tr>\n",
       "      <th>2011-03-01</th>\n",
       "      <td>100.600000</td>\n",
       "    </tr>\n",
       "    <tr>\n",
       "      <th>2011-04-01</th>\n",
       "      <td>107.700000</td>\n",
       "    </tr>\n",
       "    <tr>\n",
       "      <th>2011-05-01</th>\n",
       "      <td>96.600000</td>\n",
       "    </tr>\n",
       "    <tr>\n",
       "      <th>2011-06-01</th>\n",
       "      <td>38.400000</td>\n",
       "    </tr>\n",
       "    <tr>\n",
       "      <th>2011-07-01</th>\n",
       "      <td>141.399999</td>\n",
       "    </tr>\n",
       "    <tr>\n",
       "      <th>2011-08-01</th>\n",
       "      <td>49.200000</td>\n",
       "    </tr>\n",
       "  </tbody>\n",
       "</table>\n",
       "</div>"
      ],
      "text/plain": [
       "              Rainfall\n",
       "Time                  \n",
       "2010-01-01  104.699999\n",
       "2010-02-01   34.600000\n",
       "2010-03-01  128.300001\n",
       "2010-04-01  153.200000\n",
       "2010-05-01  174.300002\n",
       "2010-06-01  270.200001\n",
       "2010-07-01  170.200000\n",
       "2010-08-01  196.300000\n",
       "2010-09-01  180.600002\n",
       "2010-10-01  247.099999\n",
       "2010-11-01  286.199999\n",
       "2010-12-01  168.099999\n",
       "2011-01-01  168.099999\n",
       "2011-02-01  212.499998\n",
       "2011-03-01  100.600000\n",
       "2011-04-01  107.700000\n",
       "2011-05-01   96.600000\n",
       "2011-06-01   38.400000\n",
       "2011-07-01  141.399999\n",
       "2011-08-01   49.200000"
      ]
     },
     "execution_count": 14,
     "metadata": {},
     "output_type": "execute_result"
    }
   ],
   "source": [
    "#removing missing values\n",
    "rain=rainfall.fillna(method='ffill')\n",
    "rain.head(20)\n",
    "\n"
   ]
  },
  {
   "cell_type": "code",
   "execution_count": 15,
   "metadata": {},
   "outputs": [
    {
     "data": {
      "text/plain": [
       "Rainfall    0\n",
       "dtype: int64"
      ]
     },
     "execution_count": 15,
     "metadata": {},
     "output_type": "execute_result"
    }
   ],
   "source": [
    "#Checking for missing values\n",
    "rain.isna().sum()"
   ]
  },
  {
   "cell_type": "code",
   "execution_count": null,
   "metadata": {},
   "outputs": [],
   "source": []
  },
  {
   "cell_type": "code",
   "execution_count": null,
   "metadata": {},
   "outputs": [],
   "source": []
  },
  {
   "cell_type": "code",
   "execution_count": null,
   "metadata": {},
   "outputs": [],
   "source": []
  },
  {
   "cell_type": "markdown",
   "metadata": {},
   "source": [
    "# Visualize the Data"
   ]
  },
  {
   "cell_type": "code",
   "execution_count": 16,
   "metadata": {},
   "outputs": [
    {
     "data": {
      "text/plain": [
       "<AxesSubplot:xlabel='Time'>"
      ]
     },
     "execution_count": 16,
     "metadata": {},
     "output_type": "execute_result"
    },
    {
     "data": {
      "image/png": "[encoded data removed]",
      "text/plain": [
       "<Figure size 864x576 with 1 Axes>"
      ]
     },
     "metadata": {
      "needs_background": "light"
     },
     "output_type": "display_data"
    }
   ],
   "source": [
    "rain.plot(figsize=(12,8))"
   ]
  },
  {
   "cell_type": "markdown",
   "metadata": {},
   "source": [
    "No significant trend. But it can be seen that there is some evidence for seasonality."
   ]
  },
  {
   "cell_type": "markdown",
   "metadata": {},
   "source": [
    "# Testing For Stationarity"
   ]
  },
  {
   "cell_type": "code",
   "execution_count": 17,
   "metadata": {},
   "outputs": [
    {
     "name": "stdout",
     "output_type": "stream",
     "text": [
      "ADF Test Statistic : -3.5966645589630004\n",
      "p-value : 0.005825115326645405\n",
      "#Lags Used : 12\n",
      "Number of Observations Used : 131\n",
      "strong evidence against the null hypothesis(Ho), reject the null hypothesis. Data has no unit root and is stationary\n"
     ]
    }
   ],
   "source": [
    "### ADF Test\n",
    "test_result=adfuller(rain['Rainfall'])\n",
    "#Ho: The series is non stationary\n",
    "#H1: The series is stationary\n",
    "\n",
    "def adfuller_test(rainfall):\n",
    "    result=adfuller(rainfall)\n",
    "    labels = ['ADF Test Statistic','p-value','#Lags Used','Number of Observations Used']\n",
    "    for value,label in zip(result,labels):\n",
    "        print(label+' : '+str(value) )\n",
    "    if result[1] <= 0.05:\n",
    "        print(\"strong evidence against the null hypothesis(Ho), reject the null hypothesis. Data has no unit root and is stationary\")\n",
    "    else:\n",
    "        print(\"weak evidence against null hypothesis, time series has a unit root, indicating it is non-stationary \")\n",
    "    \n",
    "adfuller_test(rain['Rainfall'])"
   ]
  },
  {
   "cell_type": "code",
   "execution_count": 18,
   "metadata": {},
   "outputs": [
    {
     "name": "stdout",
     "output_type": "stream",
     "text": [
      "KPSS Statistic: 0.028523316552416644\n",
      "p-value: 0.1\n",
      "num lags: 2\n",
      "Critial Values:\n",
      "   10% : 0.347\n",
      "   5% : 0.463\n",
      "   2.5% : 0.574\n",
      "   1% : 0.739\n",
      "Result: The series is stationary\n"
     ]
    },
    {
     "name": "stderr",
     "output_type": "stream",
     "text": [
      "C:\\Users\\isuru\\anaconda3\\lib\\site-packages\\statsmodels\\tsa\\stattools.py:2022: InterpolationWarning: The test statistic is outside of the range of p-values available in the\n",
      "look-up table. The actual p-value is greater than the p-value returned.\n",
      "\n",
      "  warnings.warn(\n"
     ]
    }
   ],
   "source": [
    "# KPSS test\n",
    "from statsmodels.tsa.stattools import kpss\n",
    "def kpss_test(series, **kw):    \n",
    "    statistic, p_value, n_lags, critical_values = kpss(series, **kw)\n",
    "    # Format Output\n",
    "    print(f'KPSS Statistic: {statistic}')\n",
    "    print(f'p-value: {p_value}')\n",
    "    print(f'num lags: {n_lags}')\n",
    "    print('Critial Values:')\n",
    "    for key, value in critical_values.items():\n",
    "        print(f'   {key} : {value}')\n",
    "    print(f'Result: The series is {\"not \" if p_value < 0.05 else \"\"}stationary')\n",
    "\n",
    "kpss_test(rain['Rainfall'])"
   ]
  },
  {
   "cell_type": "code",
   "execution_count": 19,
   "metadata": {},
   "outputs": [
    {
     "name": "stdout",
     "output_type": "stream",
     "text": [
      "     Phillips-Perron Test (Z-tau)    \n",
      "=====================================\n",
      "Test Statistic                 -7.655\n",
      "P-value                         0.000\n",
      "Lags                               14\n",
      "-------------------------------------\n",
      "\n",
      "Trend: Constant\n",
      "Critical Values: -3.48 (1%), -2.88 (5%), -2.58 (10%)\n",
      "Null Hypothesis: The process contains a unit root.\n",
      "Alternative Hypothesis: The process is weakly stationary.\n"
     ]
    }
   ],
   "source": [
    "#PhillipsPerron Test\n",
    "from arch.unitroot import PhillipsPerron\n",
    "\n",
    "pp = PhillipsPerron(rain['Rainfall'])\n",
    "print(pp.summary().as_text())"
   ]
  },
  {
   "cell_type": "markdown",
   "metadata": {},
   "source": [
    "# ACF and PACF plots"
   ]
  },
  {
   "cell_type": "code",
   "execution_count": 20,
   "metadata": {},
   "outputs": [
    {
     "name": "stderr",
     "output_type": "stream",
     "text": [
      "C:\\Users\\isuru\\anaconda3\\lib\\site-packages\\statsmodels\\graphics\\tsaplots.py:348: FutureWarning: The default method 'yw' can produce PACF values outside of the [-1,1] interval. After 0.13, the default will change tounadjusted Yule-Walker ('ywm'). You can use this method now by setting method='ywm'.\n",
      "  warnings.warn(\n"
     ]
    },
    {
     "data": {
      "image/png": "[encoded data removed]",
      "text/plain": [
       "<Figure size 864x576 with 2 Axes>"
      ]
     },
     "metadata": {
      "needs_background": "light"
     },
     "output_type": "display_data"
    }
   ],
   "source": [
    "fig = plt.figure(figsize=(12,8))\n",
    "ax1 = fig.add_subplot(211)\n",
    "fig = sm.graphics.tsa.plot_acf(rain['Rainfall'],lags=40,ax=ax1)\n",
    "ax2 = fig.add_subplot(212)\n",
    "fig = sm.graphics.tsa.plot_pacf(rain['Rainfall'],lags=40,ax=ax2)"
   ]
  },
  {
   "cell_type": "markdown",
   "metadata": {},
   "source": [
    "#According to PACF and ACF plots, p=4 d=0 and q=4 is better to start with."
   ]
  },
  {
   "cell_type": "code",
   "execution_count": 21,
   "metadata": {},
   "outputs": [
    {
     "name": "stdout",
     "output_type": "stream",
     "text": [
      " ARIMA(0,0,0)(0,0,0)[12] intercept   : AIC=1748.753, Time=0.02 sec\n",
      " ARIMA(0,0,0)(0,0,1)[12] intercept   : AIC=1744.112, Time=0.36 sec\n",
      " ARIMA(0,0,0)(0,0,2)[12] intercept   : AIC=1738.292, Time=0.79 sec\n",
      " ARIMA(0,0,0)(0,0,3)[12] intercept   : AIC=1736.732, Time=2.10 sec\n",
      " ARIMA(0,0,0)(0,0,4)[12] intercept   : AIC=1736.910, Time=3.27 sec\n",
      " ARIMA(0,0,0)(1,0,0)[12] intercept   : AIC=1740.655, Time=0.33 sec\n",
      " ARIMA(0,0,0)(1,0,1)[12] intercept   : AIC=1719.907, Time=1.27 sec\n",
      " ARIMA(0,0,0)(1,0,2)[12] intercept   : AIC=1720.973, Time=4.24 sec\n",
      " ARIMA(0,0,0)(1,0,3)[12] intercept   : AIC=inf, Time=8.41 sec\n",
      " ARIMA(0,0,0)(1,0,4)[12] intercept   : AIC=1738.882, Time=3.67 sec\n",
      " ARIMA(0,0,0)(2,0,0)[12] intercept   : AIC=1732.777, Time=1.79 sec\n",
      " ARIMA(0,0,0)(2,0,1)[12] intercept   : AIC=1721.365, Time=4.20 sec\n",
      " ARIMA(0,0,0)(2,0,2)[12] intercept   : AIC=inf, Time=4.90 sec\n",
      " ARIMA(0,0,0)(2,0,3)[12] intercept   : AIC=inf, Time=9.39 sec\n",
      " ARIMA(0,0,0)(3,0,0)[12] intercept   : AIC=1730.716, Time=3.38 sec\n",
      " ARIMA(0,0,0)(3,0,1)[12] intercept   : AIC=1735.141, Time=8.34 sec\n",
      " ARIMA(0,0,0)(3,0,2)[12] intercept   : AIC=inf, Time=9.13 sec\n",
      " ARIMA(0,0,0)(4,0,0)[12] intercept   : AIC=1731.381, Time=7.23 sec\n",
      " ARIMA(0,0,0)(4,0,1)[12] intercept   : AIC=inf, Time=10.77 sec\n",
      " ARIMA(0,0,1)(0,0,0)[12] intercept   : AIC=1736.011, Time=0.16 sec\n",
      " ARIMA(0,0,1)(0,0,1)[12] intercept   : AIC=1730.180, Time=0.47 sec\n",
      " ARIMA(0,0,1)(0,0,2)[12] intercept   : AIC=1726.760, Time=2.16 sec\n",
      " ARIMA(0,0,1)(0,0,3)[12] intercept   : AIC=1726.153, Time=4.14 sec\n",
      " ARIMA(0,0,1)(0,0,4)[12] intercept   : AIC=1727.452, Time=5.79 sec\n",
      " ARIMA(0,0,1)(1,0,0)[12] intercept   : AIC=1726.983, Time=0.55 sec\n",
      " ARIMA(0,0,1)(1,0,1)[12] intercept   : AIC=1714.379, Time=1.57 sec\n",
      " ARIMA(0,0,1)(1,0,2)[12] intercept   : AIC=inf, Time=7.74 sec\n",
      " ARIMA(0,0,1)(1,0,3)[12] intercept   : AIC=inf, Time=9.84 sec\n",
      " ARIMA(0,0,1)(2,0,0)[12] intercept   : AIC=1723.234, Time=2.13 sec\n",
      " ARIMA(0,0,1)(2,0,1)[12] intercept   : AIC=1716.633, Time=5.18 sec\n",
      " ARIMA(0,0,1)(2,0,2)[12] intercept   : AIC=inf, Time=4.75 sec\n",
      " ARIMA(0,0,1)(3,0,0)[12] intercept   : AIC=1723.205, Time=3.62 sec\n",
      " ARIMA(0,0,1)(3,0,1)[12] intercept   : AIC=1725.925, Time=6.45 sec\n",
      " ARIMA(0,0,1)(4,0,0)[12] intercept   : AIC=1724.617, Time=6.15 sec\n",
      " ARIMA(0,0,2)(0,0,0)[12] intercept   : AIC=1729.998, Time=0.29 sec\n",
      " ARIMA(0,0,2)(0,0,1)[12] intercept   : AIC=1724.250, Time=0.75 sec\n",
      " ARIMA(0,0,2)(0,0,2)[12] intercept   : AIC=1721.015, Time=2.80 sec\n",
      " ARIMA(0,0,2)(0,0,3)[12] intercept   : AIC=1719.978, Time=3.92 sec\n",
      " ARIMA(0,0,2)(1,0,0)[12] intercept   : AIC=1721.176, Time=0.48 sec\n",
      " ARIMA(0,0,2)(1,0,1)[12] intercept   : AIC=inf, Time=1.81 sec\n",
      " ARIMA(0,0,2)(1,0,2)[12] intercept   : AIC=1712.339, Time=7.18 sec\n",
      " ARIMA(0,0,2)(2,0,0)[12] intercept   : AIC=1717.556, Time=2.94 sec\n",
      " ARIMA(0,0,2)(2,0,1)[12] intercept   : AIC=inf, Time=6.51 sec\n",
      " ARIMA(0,0,2)(3,0,0)[12] intercept   : AIC=1717.964, Time=5.92 sec\n",
      " ARIMA(0,0,3)(0,0,0)[12] intercept   : AIC=1731.869, Time=0.30 sec\n",
      " ARIMA(0,0,3)(0,0,1)[12] intercept   : AIC=1725.969, Time=0.65 sec\n",
      " ARIMA(0,0,3)(0,0,2)[12] intercept   : AIC=1722.542, Time=3.13 sec\n",
      " ARIMA(0,0,3)(1,0,0)[12] intercept   : AIC=1722.779, Time=0.90 sec\n",
      " ARIMA(0,0,3)(1,0,1)[12] intercept   : AIC=1712.367, Time=2.12 sec\n",
      " ARIMA(0,0,3)(2,0,0)[12] intercept   : AIC=1718.992, Time=3.32 sec\n",
      " ARIMA(0,0,4)(0,0,0)[12] intercept   : AIC=1726.477, Time=0.46 sec\n",
      " ARIMA(0,0,4)(0,0,1)[12] intercept   : AIC=1722.594, Time=2.48 sec\n",
      " ARIMA(0,0,4)(1,0,0)[12] intercept   : AIC=1720.056, Time=0.91 sec\n",
      " ARIMA(1,0,0)(0,0,0)[12] intercept   : AIC=1732.579, Time=0.05 sec\n",
      " ARIMA(1,0,0)(0,0,1)[12] intercept   : AIC=1726.157, Time=0.45 sec\n",
      " ARIMA(1,0,0)(0,0,2)[12] intercept   : AIC=1723.055, Time=1.17 sec\n",
      " ARIMA(1,0,0)(0,0,3)[12] intercept   : AIC=1722.369, Time=2.42 sec\n",
      " ARIMA(1,0,0)(0,0,4)[12] intercept   : AIC=1723.715, Time=3.73 sec\n",
      " ARIMA(1,0,0)(1,0,0)[12] intercept   : AIC=1722.835, Time=0.61 sec\n",
      " ARIMA(1,0,0)(1,0,1)[12] intercept   : AIC=1711.575, Time=1.63 sec\n",
      " ARIMA(1,0,0)(1,0,2)[12] intercept   : AIC=inf, Time=5.69 sec\n",
      " ARIMA(1,0,0)(1,0,3)[12] intercept   : AIC=1724.253, Time=3.72 sec\n",
      " ARIMA(1,0,0)(2,0,0)[12] intercept   : AIC=1719.637, Time=2.28 sec\n",
      " ARIMA(1,0,0)(2,0,1)[12] intercept   : AIC=1713.893, Time=6.32 sec\n"
     ]
    },
    {
     "name": "stderr",
     "output_type": "stream",
     "text": [
      "C:\\Users\\isuru\\anaconda3\\lib\\site-packages\\pmdarima\\arima\\_auto_solvers.py:522: ModelFitWarning: Error fitting  ARIMA(1,0,0)(2,0,2)[12] intercept (if you do not want to see these warnings, run with error_action=\"ignore\").\n",
      "  warnings.warn(warning_str, ModelFitWarning)\n"
     ]
    },
    {
     "name": "stdout",
     "output_type": "stream",
     "text": [
      " ARIMA(1,0,0)(2,0,2)[12] intercept   : AIC=inf, Time=nan sec\n",
      " ARIMA(1,0,0)(3,0,0)[12] intercept   : AIC=1719.936, Time=5.57 sec\n",
      " ARIMA(1,0,0)(3,0,1)[12] intercept   : AIC=1722.642, Time=9.70 sec\n",
      " ARIMA(1,0,0)(4,0,0)[12] intercept   : AIC=1721.476, Time=8.14 sec\n",
      " ARIMA(1,0,1)(0,0,0)[12] intercept   : AIC=1734.548, Time=0.23 sec\n",
      " ARIMA(1,0,1)(0,0,1)[12] intercept   : AIC=1728.084, Time=0.61 sec\n",
      " ARIMA(1,0,1)(0,0,2)[12] intercept   : AIC=1724.799, Time=1.92 sec\n",
      " ARIMA(1,0,1)(0,0,3)[12] intercept   : AIC=1723.926, Time=5.81 sec\n",
      " ARIMA(1,0,1)(1,0,0)[12] intercept   : AIC=1724.669, Time=0.83 sec\n",
      " ARIMA(1,0,1)(1,0,1)[12] intercept   : AIC=1716.769, Time=1.77 sec\n",
      " ARIMA(1,0,1)(1,0,2)[12] intercept   : AIC=1716.109, Time=5.20 sec\n",
      " ARIMA(1,0,1)(2,0,0)[12] intercept   : AIC=1721.067, Time=3.22 sec\n",
      " ARIMA(1,0,1)(2,0,1)[12] intercept   : AIC=1719.666, Time=5.58 sec\n",
      " ARIMA(1,0,1)(3,0,0)[12] intercept   : AIC=1721.200, Time=7.08 sec\n",
      " ARIMA(1,0,2)(0,0,0)[12] intercept   : AIC=1731.956, Time=0.42 sec\n",
      " ARIMA(1,0,2)(0,0,1)[12] intercept   : AIC=1726.268, Time=0.52 sec\n",
      " ARIMA(1,0,2)(0,0,2)[12] intercept   : AIC=1722.918, Time=2.41 sec\n",
      " ARIMA(1,0,2)(1,0,0)[12] intercept   : AIC=1723.023, Time=0.96 sec\n",
      " ARIMA(1,0,2)(1,0,1)[12] intercept   : AIC=1717.979, Time=1.84 sec\n",
      " ARIMA(1,0,2)(2,0,0)[12] intercept   : AIC=1719.324, Time=3.50 sec\n",
      " ARIMA(1,0,3)(0,0,0)[12] intercept   : AIC=1732.645, Time=0.53 sec\n",
      " ARIMA(1,0,3)(0,0,1)[12] intercept   : AIC=1727.452, Time=0.60 sec\n",
      " ARIMA(1,0,3)(1,0,0)[12] intercept   : AIC=1723.546, Time=1.32 sec\n",
      " ARIMA(1,0,4)(0,0,0)[12] intercept   : AIC=inf, Time=1.13 sec\n",
      " ARIMA(2,0,0)(0,0,0)[12] intercept   : AIC=1734.522, Time=0.05 sec\n",
      " ARIMA(2,0,0)(0,0,1)[12] intercept   : AIC=1728.012, Time=0.60 sec\n",
      " ARIMA(2,0,0)(0,0,2)[12] intercept   : AIC=1724.549, Time=2.39 sec\n",
      " ARIMA(2,0,0)(0,0,3)[12] intercept   : AIC=1723.542, Time=2.71 sec\n",
      " ARIMA(2,0,0)(1,0,0)[12] intercept   : AIC=1724.517, Time=0.84 sec\n",
      " ARIMA(2,0,0)(1,0,1)[12] intercept   : AIC=1712.507, Time=1.75 sec\n",
      " ARIMA(2,0,0)(1,0,2)[12] intercept   : AIC=1713.721, Time=6.51 sec\n",
      " ARIMA(2,0,0)(2,0,0)[12] intercept   : AIC=1720.502, Time=3.33 sec\n",
      " ARIMA(2,0,0)(2,0,1)[12] intercept   : AIC=1714.744, Time=6.66 sec\n",
      " ARIMA(2,0,0)(3,0,0)[12] intercept   : AIC=1720.451, Time=6.37 sec\n",
      " ARIMA(2,0,1)(0,0,0)[12] intercept   : AIC=1735.961, Time=0.37 sec\n",
      " ARIMA(2,0,1)(0,0,1)[12] intercept   : AIC=1729.454, Time=0.66 sec\n",
      " ARIMA(2,0,1)(0,0,2)[12] intercept   : AIC=1725.993, Time=2.65 sec\n",
      " ARIMA(2,0,1)(1,0,0)[12] intercept   : AIC=1726.012, Time=1.00 sec\n",
      " ARIMA(2,0,1)(1,0,1)[12] intercept   : AIC=inf, Time=2.13 sec\n",
      " ARIMA(2,0,1)(2,0,0)[12] intercept   : AIC=1722.229, Time=4.84 sec\n",
      " ARIMA(2,0,2)(0,0,0)[12] intercept   : AIC=1728.253, Time=0.68 sec\n",
      " ARIMA(2,0,2)(0,0,1)[12] intercept   : AIC=1723.447, Time=1.44 sec\n",
      " ARIMA(2,0,2)(1,0,0)[12] intercept   : AIC=1720.772, Time=0.97 sec\n",
      " ARIMA(2,0,3)(0,0,0)[12] intercept   : AIC=1730.812, Time=0.28 sec\n",
      " ARIMA(3,0,0)(0,0,0)[12] intercept   : AIC=1730.172, Time=0.22 sec\n",
      " ARIMA(3,0,0)(0,0,1)[12] intercept   : AIC=1725.428, Time=0.62 sec\n",
      " ARIMA(3,0,0)(0,0,2)[12] intercept   : AIC=1722.997, Time=3.45 sec\n",
      " ARIMA(3,0,0)(1,0,0)[12] intercept   : AIC=1722.841, Time=1.92 sec\n",
      " ARIMA(3,0,0)(1,0,1)[12] intercept   : AIC=1714.085, Time=2.37 sec\n",
      " ARIMA(3,0,0)(2,0,0)[12] intercept   : AIC=1719.976, Time=4.35 sec\n",
      " ARIMA(3,0,1)(0,0,0)[12] intercept   : AIC=1724.220, Time=0.96 sec\n",
      " ARIMA(3,0,1)(0,0,1)[12] intercept   : AIC=1726.540, Time=1.09 sec\n",
      " ARIMA(3,0,1)(1,0,0)[12] intercept   : AIC=1723.968, Time=1.91 sec\n",
      " ARIMA(3,0,2)(0,0,0)[12] intercept   : AIC=inf, Time=0.53 sec\n",
      " ARIMA(4,0,0)(0,0,0)[12] intercept   : AIC=1729.928, Time=0.27 sec\n",
      " ARIMA(4,0,0)(0,0,1)[12] intercept   : AIC=1725.730, Time=0.98 sec\n",
      " ARIMA(4,0,0)(1,0,0)[12] intercept   : AIC=1723.085, Time=1.22 sec\n",
      " ARIMA(4,0,1)(0,0,0)[12] intercept   : AIC=1731.816, Time=0.38 sec\n",
      "\n",
      "Best model:  ARIMA(1,0,0)(1,0,1)[12] intercept\n",
      "Total fit time: 357.975 seconds\n"
     ]
    }
   ],
   "source": [
    "arima_model=auto_arima(rain['Rainfall'].astype(float),start_p=0,start_d=0,start_q=0,max_p=4,max_D=1,max_q=4,start_P=0,start_D=0,start_Q=0,max_P=4,max_Q=4,m=12,seasonal=True,error_action='warn',trace=True,supress_warnings=True,stepwise=False,random_state=20,n_fits=70,maxiter=70)"
   ]
  },
  {
   "cell_type": "code",
   "execution_count": 22,
   "metadata": {},
   "outputs": [
    {
     "data": {
      "text/html": [
       "<table class=\"simpletable\">\n",
       "<caption>SARIMAX Results</caption>\n",
       "<tr>\n",
       "  <th>Dep. Variable:</th>               <td>Rainfall</td>             <th>  No. Observations:  </th>    <td>144</td>  \n",
       "</tr>\n",
       "<tr>\n",
       "  <th>Model:</th>           <td>SARIMAX(1, 0, 0)x(1, 0, [1], 12)</td> <th>  Log Likelihood     </th> <td>-859.413</td>\n",
       "</tr>\n",
       "<tr>\n",
       "  <th>Date:</th>                    <td>Wed, 13 Apr 2022</td>         <th>  AIC                </th> <td>1726.827</td>\n",
       "</tr>\n",
       "<tr>\n",
       "  <th>Time:</th>                        <td>23:59:11</td>             <th>  BIC                </th> <td>1738.706</td>\n",
       "</tr>\n",
       "<tr>\n",
       "  <th>Sample:</th>                     <td>01-01-2010</td>            <th>  HQIC               </th> <td>1731.654</td>\n",
       "</tr>\n",
       "<tr>\n",
       "  <th></th>                           <td>- 12-01-2021</td>           <th>                     </th>     <td> </td>   \n",
       "</tr>\n",
       "<tr>\n",
       "  <th>Covariance Type:</th>                <td>opg</td>               <th>                     </th>     <td> </td>   \n",
       "</tr>\n",
       "</table>\n",
       "<table class=\"simpletable\">\n",
       "<tr>\n",
       "      <td></td>        <th>coef</th>     <th>std err</th>      <th>z</th>      <th>P>|z|</th>  <th>[0.025</th>    <th>0.975]</th>  \n",
       "</tr>\n",
       "<tr>\n",
       "  <th>ar.L1</th>    <td>    0.3429</td> <td>    0.073</td> <td>    4.722</td> <td> 0.000</td> <td>    0.201</td> <td>    0.485</td>\n",
       "</tr>\n",
       "<tr>\n",
       "  <th>ar.S.L12</th> <td>    0.9995</td> <td>    0.009</td> <td>  117.159</td> <td> 0.000</td> <td>    0.983</td> <td>    1.016</td>\n",
       "</tr>\n",
       "<tr>\n",
       "  <th>ma.S.L12</th> <td>   -0.9586</td> <td>    0.359</td> <td>   -2.674</td> <td> 0.007</td> <td>   -1.661</td> <td>   -0.256</td>\n",
       "</tr>\n",
       "<tr>\n",
       "  <th>sigma2</th>   <td> 7144.7371</td> <td> 2325.863</td> <td>    3.072</td> <td> 0.002</td> <td> 2586.129</td> <td> 1.17e+04</td>\n",
       "</tr>\n",
       "</table>\n",
       "<table class=\"simpletable\">\n",
       "<tr>\n",
       "  <th>Ljung-Box (L1) (Q):</th>     <td>1.26</td> <th>  Jarque-Bera (JB):  </th> <td>6.64</td>\n",
       "</tr>\n",
       "<tr>\n",
       "  <th>Prob(Q):</th>                <td>0.26</td> <th>  Prob(JB):          </th> <td>0.04</td>\n",
       "</tr>\n",
       "<tr>\n",
       "  <th>Heteroskedasticity (H):</th> <td>0.89</td> <th>  Skew:              </th> <td>0.50</td>\n",
       "</tr>\n",
       "<tr>\n",
       "  <th>Prob(H) (two-sided):</th>    <td>0.68</td> <th>  Kurtosis:          </th> <td>3.35</td>\n",
       "</tr>\n",
       "</table><br/><br/>Warnings:<br/>[1] Covariance matrix calculated using the outer product of gradients (complex-step)."
      ],
      "text/plain": [
       "<class 'statsmodels.iolib.summary.Summary'>\n",
       "\"\"\"\n",
       "                                      SARIMAX Results                                       \n",
       "============================================================================================\n",
       "Dep. Variable:                             Rainfall   No. Observations:                  144\n",
       "Model:             SARIMAX(1, 0, 0)x(1, 0, [1], 12)   Log Likelihood                -859.413\n",
       "Date:                              Wed, 13 Apr 2022   AIC                           1726.827\n",
       "Time:                                      23:59:11   BIC                           1738.706\n",
       "Sample:                                  01-01-2010   HQIC                          1731.654\n",
       "                                       - 12-01-2021                                         \n",
       "Covariance Type:                                opg                                         \n",
       "==============================================================================\n",
       "                 coef    std err          z      P>|z|      [0.025      0.975]\n",
       "------------------------------------------------------------------------------\n",
       "ar.L1          0.3429      0.073      4.722      0.000       0.201       0.485\n",
       "ar.S.L12       0.9995      0.009    117.159      0.000       0.983       1.016\n",
       "ma.S.L12      -0.9586      0.359     -2.674      0.007      -1.661      -0.256\n",
       "sigma2      7144.7371   2325.863      3.072      0.002    2586.129    1.17e+04\n",
       "===================================================================================\n",
       "Ljung-Box (L1) (Q):                   1.26   Jarque-Bera (JB):                 6.64\n",
       "Prob(Q):                              0.26   Prob(JB):                         0.04\n",
       "Heteroskedasticity (H):               0.89   Skew:                             0.50\n",
       "Prob(H) (two-sided):                  0.68   Kurtosis:                         3.35\n",
       "===================================================================================\n",
       "\n",
       "Warnings:\n",
       "[1] Covariance matrix calculated using the outer product of gradients (complex-step).\n",
       "\"\"\""
      ]
     },
     "execution_count": 22,
     "metadata": {},
     "output_type": "execute_result"
    }
   ],
   "source": [
    "model=sm.tsa.statespace.SARIMAX(rain['Rainfall'].astype('float'),order=(1, 0, 0),seasonal_order=(1,0,1,12))\n",
    "results=model.fit()\n",
    "results.summary()"
   ]
  },
  {
   "cell_type": "code",
   "execution_count": 23,
   "metadata": {},
   "outputs": [
    {
     "data": {
      "text/plain": [
       "<AxesSubplot:xlabel='Time'>"
      ]
     },
     "execution_count": 23,
     "metadata": {},
     "output_type": "execute_result"
    },
    {
     "data": {
      "image/png": "[encoded data removed]",
      "text/plain": [
       "<Figure size 864x576 with 1 Axes>"
      ]
     },
     "metadata": {
      "needs_background": "light"
     },
     "output_type": "display_data"
    }
   ],
   "source": [
    "rain['forecast']=results.predict(start=90,end=142,dynamic=True)\n",
    "rain[['Rainfall','forecast']].plot(figsize=(12,8))"
   ]
  },
  {
   "cell_type": "code",
   "execution_count": 24,
   "metadata": {},
   "outputs": [
    {
     "data": {
      "text/html": [
       "<div>\n",
       "<style scoped>\n",
       "    .dataframe tbody tr th:only-of-type {\n",
       "        vertical-align: middle;\n",
       "    }\n",
       "\n",
       "    .dataframe tbody tr th {\n",
       "        vertical-align: top;\n",
       "    }\n",
       "\n",
       "    .dataframe thead th {\n",
       "        text-align: right;\n",
       "    }\n",
       "</style>\n",
       "<table border=\"1\" class=\"dataframe\">\n",
       "  <thead>\n",
       "    <tr style=\"text-align: right;\">\n",
       "      <th></th>\n",
       "      <th>Rainfall</th>\n",
       "      <th>forecast</th>\n",
       "    </tr>\n",
       "    <tr>\n",
       "      <th>Time</th>\n",
       "      <th></th>\n",
       "      <th></th>\n",
       "    </tr>\n",
       "  </thead>\n",
       "  <tbody>\n",
       "    <tr>\n",
       "      <th>2021-08-01</th>\n",
       "      <td>114.400000</td>\n",
       "      <td>98.881703</td>\n",
       "    </tr>\n",
       "    <tr>\n",
       "      <th>2021-09-01</th>\n",
       "      <td>118.899999</td>\n",
       "      <td>133.665217</td>\n",
       "    </tr>\n",
       "    <tr>\n",
       "      <th>2021-10-01</th>\n",
       "      <td>433.799999</td>\n",
       "      <td>249.670237</td>\n",
       "    </tr>\n",
       "    <tr>\n",
       "      <th>2021-11-01</th>\n",
       "      <td>279.000003</td>\n",
       "      <td>212.878927</td>\n",
       "    </tr>\n",
       "    <tr>\n",
       "      <th>2021-12-01</th>\n",
       "      <td>279.000003</td>\n",
       "      <td>NaN</td>\n",
       "    </tr>\n",
       "  </tbody>\n",
       "</table>\n",
       "</div>"
      ],
      "text/plain": [
       "              Rainfall    forecast\n",
       "Time                              \n",
       "2021-08-01  114.400000   98.881703\n",
       "2021-09-01  118.899999  133.665217\n",
       "2021-10-01  433.799999  249.670237\n",
       "2021-11-01  279.000003  212.878927\n",
       "2021-12-01  279.000003         NaN"
      ]
     },
     "execution_count": 24,
     "metadata": {},
     "output_type": "execute_result"
    }
   ],
   "source": [
    "rain.tail()"
   ]
  },
  {
   "cell_type": "code",
   "execution_count": null,
   "metadata": {},
   "outputs": [],
   "source": []
  }
 ],
 "metadata": {
  "kernelspec": {
   "display_name": "Python 3",
   "language": "python",
   "name": "python3"
  },
  "language_info": {
   "codemirror_mode": {
    "name": "ipython",
    "version": 3
   },
   "file_extension": ".py",
   "mimetype": "text/x-python",
   "name": "python",
   "nbconvert_exporter": "python",
   "pygments_lexer": "ipython3",
   "version": "3.8.5"
  }
 },
 "nbformat": 4,
 "nbformat_minor": 4
}
